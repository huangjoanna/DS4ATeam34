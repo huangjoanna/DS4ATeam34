{
 "cells": [
  {
   "cell_type": "code",
   "execution_count": 1,
   "metadata": {
    "id": "sweet-estate"
   },
   "outputs": [],
   "source": [
    "import pandas as pd\n",
    "import numpy as np\n",
    "import seaborn as sns\n",
    "import matplotlib.pyplot as plt\n",
    "import sklearn\n",
    "import yaml\n",
    "from collections import defaultdict\n",
    "import pprint"
   ]
  },
  {
   "cell_type": "markdown",
   "metadata": {
    "id": "reliable-paradise"
   },
   "source": [
    "### Import column dictionary from yaml\n",
    "\n",
    "The yaml file has information regarding the data in the following form:\n",
    "\n",
    "  ```\n",
    "  dictionary:\n",
    "      school.name:\n",
    "        source: INSTNM\n",
    "        type: autocomplete\n",
    "        description: Institution name\n",
    "        index: fulltext \n",
    "  ```\n",
    "The type indicates the data type and should be indicated when reading in the college scorecard csv.  \n",
    "Null values are written as ```NULL``` or ```PrivacySupressed```.   \n",
    "The dictionary is nested. For the example above, the ```school.name``` key returns four more keys ```source, type, description, index```. Each of those keys returns a value. The colum name is under the nested key ```source```. It needs to be flipped so that the value of ```source``` is the main key."
   ]
  },
  {
   "cell_type": "code",
   "execution_count": 2,
   "metadata": {
    "colab": {
     "base_uri": "https://localhost:8080/",
     "height": 232
    },
    "id": "executive-affairs",
    "outputId": "85e9931c-0a40-4347-ed75-526372f96ada"
   },
   "outputs": [
    {
     "name": "stderr",
     "output_type": "stream",
     "text": [
      "/Users/meng/opt/anaconda3/lib/python3.7/site-packages/ipykernel_launcher.py:2: YAMLLoadWarning: calling yaml.load() without Loader=... is deprecated, as the default Loader is unsafe. Please read https://msg.pyyaml.org/load for full details.\n",
      "  \n"
     ]
    }
   ],
   "source": [
    "yaml_file = open(\"/Users/meng/Desktop/DS4A/CollegeScorecard_Raw_Data_08032021/data.yaml\", 'r')\n",
    "yaml_content = yaml.load(yaml_file)\n",
    "\n",
    "## Need to flip the dictionary so that the the keys match the column names\n",
    "flippeddict = defaultdict(dict)\n",
    "try:\n",
    "    for key, val in yaml_content[\"dictionary\"].items():\n",
    "        newkey = val['source']\n",
    "        for subkey, subval in val.items():\n",
    "            flippeddict[newkey][subkey] = subval\n",
    "except KeyError:\n",
    "    pass\n",
    "\n",
    "# pprint.pprint(dict(flippeddict))"
   ]
  },
  {
   "cell_type": "markdown",
   "metadata": {
    "id": "analyzed-wrist"
   },
   "source": [
    "*Work in progress, defining columns of interest*"
   ]
  },
  {
   "cell_type": "code",
   "execution_count": 3,
   "metadata": {
    "id": "musical-induction"
   },
   "outputs": [],
   "source": [
    "cols_of_interest = ['INSTNM',  \n",
    "                    'COSTT4_A', 'COSTT4_P', 'DEBT_MDN','MN_EARN_WNE_P6','MN_EARN_WNE_P8','MN_EARN_WNE_P10','TUITFTE', 'AVGFACSAL', 'ADM_RATE_ALL', 'SATVR25', 'SATVR75', 'SATMT25', 'SATMT75', 'ACTCM25', \n",
    "                    'ACTCM75', 'UGDS', 'UG25ABV', 'PCTFLOAN', 'CDR3' ]\n",
    "cols_numeric = ['COSTT4_A', 'COSTT4_P', 'DEBT_MDN','MN_EARN_WNE_P6','MN_EARN_WNE_P8','MN_EARN_WNE_P10','TUITFTE', 'AVGFACSAL', 'ADM_RATE_ALL', 'SATVR25', 'SATVR75', 'SATMT25', 'SATMT75', 'ACTCM25', \n",
    "                    'ACTCM75', 'UGDS', 'UG25ABV', 'PCTFLOAN', 'CDR3' ]"
   ]
  },
  {
   "cell_type": "markdown",
   "metadata": {
    "id": "positive-ordering"
   },
   "source": [
    "# Import data\n",
    "\n",
    "First a function is defined to read and merge csv files. Next the fucntion is run from the year 1996-2020.   \n",
    "<div class=\"alert-danger\">\n",
    "To do: use yaml file to pipe in dtypes for each column\n",
    "</div>"
   ]
  },
  {
   "cell_type": "code",
   "execution_count": 4,
   "metadata": {
    "id": "commercial-street"
   },
   "outputs": [],
   "source": [
    "# Define a function read and merge all years\n",
    "def read_cs_data(year,datadir):\n",
    "    \"\"\"read a CollegeScorecard dataframe\"\"\"\n",
    "    nextyr = str(int(year) + 1)[-2:]\n",
    "    filename = datadir + '/MERGED{}_{}_PP.csv'.format(year,nextyr)\n",
    "    \n",
    "    # Specify dtype because guessing dtypes is very memory intensive\n",
    "    # Specify that \"PrivacySuppressed\" are NaN values\n",
    "    # Eventually can use usecols to specify which columns of interest to import\n",
    "    col = pd.read_csv(filename, dtype='unicode',na_values='PrivacySuppressed') \n",
    "    col['Year'] = pd.Period(str(int(year) + 1),freq='Y')\n",
    "    return col"
   ]
  },
  {
   "cell_type": "code",
   "execution_count": 5,
   "metadata": {
    "colab": {
     "base_uri": "https://localhost:8080/",
     "height": 426
    },
    "id": "official-beginning",
    "outputId": "98413512-a33a-4075-ea99-d2a938913a33"
   },
   "outputs": [],
   "source": [
    "datadir = \"/Users/meng/Desktop/DS4A/CollegeScorecard_Raw_Data_08032021\"\n",
    "df = pd.concat((read_cs_data(str(y),datadir) for y in range(2000,2015)))\n",
    "df = df.set_index(['UNITID','Year'])\n",
    "# df_subset = df[cols_of_interest]"
   ]
  },
  {
   "cell_type": "code",
   "execution_count": 6,
   "metadata": {
    "id": "martial-fisher",
    "outputId": "1fab399f-1402-41ed-a694-f59e7a5ee6ea"
   },
   "outputs": [
    {
     "data": {
      "text/html": [
       "<div>\n",
       "<style scoped>\n",
       "    .dataframe tbody tr th:only-of-type {\n",
       "        vertical-align: middle;\n",
       "    }\n",
       "\n",
       "    .dataframe tbody tr th {\n",
       "        vertical-align: top;\n",
       "    }\n",
       "\n",
       "    .dataframe thead th {\n",
       "        text-align: right;\n",
       "    }\n",
       "</style>\n",
       "<table border=\"1\" class=\"dataframe\">\n",
       "  <thead>\n",
       "    <tr style=\"text-align: right;\">\n",
       "      <th></th>\n",
       "      <th></th>\n",
       "      <th>OPEID</th>\n",
       "      <th>OPEID6</th>\n",
       "      <th>INSTNM</th>\n",
       "      <th>CITY</th>\n",
       "      <th>STABBR</th>\n",
       "      <th>ZIP</th>\n",
       "      <th>ACCREDAGENCY</th>\n",
       "      <th>INSTURL</th>\n",
       "      <th>NPCURL</th>\n",
       "      <th>SCH_DEG</th>\n",
       "      <th>...</th>\n",
       "      <th>FEDSCHCD</th>\n",
       "      <th>BOOKSUPPLY</th>\n",
       "      <th>ROOMBOARD_ON</th>\n",
       "      <th>OTHEREXPENSE_ON</th>\n",
       "      <th>ROOMBOARD_OFF</th>\n",
       "      <th>OTHEREXPENSE_OFF</th>\n",
       "      <th>OTHEREXPENSE_FAM</th>\n",
       "      <th>ENDOWBEGIN</th>\n",
       "      <th>ENDOWEND</th>\n",
       "      <th>DOLPROVIDER</th>\n",
       "    </tr>\n",
       "    <tr>\n",
       "      <th>UNITID</th>\n",
       "      <th>Year</th>\n",
       "      <th></th>\n",
       "      <th></th>\n",
       "      <th></th>\n",
       "      <th></th>\n",
       "      <th></th>\n",
       "      <th></th>\n",
       "      <th></th>\n",
       "      <th></th>\n",
       "      <th></th>\n",
       "      <th></th>\n",
       "      <th></th>\n",
       "      <th></th>\n",
       "      <th></th>\n",
       "      <th></th>\n",
       "      <th></th>\n",
       "      <th></th>\n",
       "      <th></th>\n",
       "      <th></th>\n",
       "      <th></th>\n",
       "      <th></th>\n",
       "      <th></th>\n",
       "    </tr>\n",
       "  </thead>\n",
       "  <tbody>\n",
       "    <tr>\n",
       "      <td>100636</td>\n",
       "      <td>2001</td>\n",
       "      <td>01230800</td>\n",
       "      <td>012308</td>\n",
       "      <td>Community College of the Air Force</td>\n",
       "      <td>Montgomery</td>\n",
       "      <td>AL</td>\n",
       "      <td>36114-3011</td>\n",
       "      <td>NaN</td>\n",
       "      <td>NaN</td>\n",
       "      <td>NaN</td>\n",
       "      <td>NaN</td>\n",
       "      <td>...</td>\n",
       "      <td>NaN</td>\n",
       "      <td>0</td>\n",
       "      <td>0</td>\n",
       "      <td>0</td>\n",
       "      <td>NaN</td>\n",
       "      <td>NaN</td>\n",
       "      <td>NaN</td>\n",
       "      <td>NaN</td>\n",
       "      <td>NaN</td>\n",
       "      <td>NaN</td>\n",
       "    </tr>\n",
       "    <tr>\n",
       "      <td>100654</td>\n",
       "      <td>2001</td>\n",
       "      <td>00100200</td>\n",
       "      <td>001002</td>\n",
       "      <td>Alabama A &amp; M University</td>\n",
       "      <td>Normal</td>\n",
       "      <td>AL</td>\n",
       "      <td>35762</td>\n",
       "      <td>NaN</td>\n",
       "      <td>NaN</td>\n",
       "      <td>NaN</td>\n",
       "      <td>3</td>\n",
       "      <td>...</td>\n",
       "      <td>NaN</td>\n",
       "      <td>800</td>\n",
       "      <td>4500</td>\n",
       "      <td>1000</td>\n",
       "      <td>6000</td>\n",
       "      <td>1500</td>\n",
       "      <td>600</td>\n",
       "      <td>NaN</td>\n",
       "      <td>NaN</td>\n",
       "      <td>NaN</td>\n",
       "    </tr>\n",
       "    <tr>\n",
       "      <td>100663</td>\n",
       "      <td>2001</td>\n",
       "      <td>00105200</td>\n",
       "      <td>001052</td>\n",
       "      <td>University of Alabama at Birmingham</td>\n",
       "      <td>Birmingham</td>\n",
       "      <td>AL</td>\n",
       "      <td>35294-0110</td>\n",
       "      <td>NaN</td>\n",
       "      <td>NaN</td>\n",
       "      <td>NaN</td>\n",
       "      <td>3</td>\n",
       "      <td>...</td>\n",
       "      <td>NaN</td>\n",
       "      <td>900</td>\n",
       "      <td>6471</td>\n",
       "      <td>2438</td>\n",
       "      <td>7875</td>\n",
       "      <td>3375</td>\n",
       "      <td>3375</td>\n",
       "      <td>NaN</td>\n",
       "      <td>NaN</td>\n",
       "      <td>NaN</td>\n",
       "    </tr>\n",
       "    <tr>\n",
       "      <td>100690</td>\n",
       "      <td>2001</td>\n",
       "      <td>02503400</td>\n",
       "      <td>025034</td>\n",
       "      <td>Amridge University</td>\n",
       "      <td>Montgomery</td>\n",
       "      <td>AL</td>\n",
       "      <td>36117-3553</td>\n",
       "      <td>NaN</td>\n",
       "      <td>NaN</td>\n",
       "      <td>NaN</td>\n",
       "      <td>3</td>\n",
       "      <td>...</td>\n",
       "      <td>NaN</td>\n",
       "      <td>NaN</td>\n",
       "      <td>NaN</td>\n",
       "      <td>NaN</td>\n",
       "      <td>NaN</td>\n",
       "      <td>NaN</td>\n",
       "      <td>NaN</td>\n",
       "      <td>NaN</td>\n",
       "      <td>NaN</td>\n",
       "      <td>NaN</td>\n",
       "    </tr>\n",
       "    <tr>\n",
       "      <td>100706</td>\n",
       "      <td>2001</td>\n",
       "      <td>00105500</td>\n",
       "      <td>001055</td>\n",
       "      <td>University of Alabama in Huntsville</td>\n",
       "      <td>Huntsville</td>\n",
       "      <td>AL</td>\n",
       "      <td>35899</td>\n",
       "      <td>NaN</td>\n",
       "      <td>NaN</td>\n",
       "      <td>NaN</td>\n",
       "      <td>3</td>\n",
       "      <td>...</td>\n",
       "      <td>NaN</td>\n",
       "      <td>720</td>\n",
       "      <td>4300</td>\n",
       "      <td>2100</td>\n",
       "      <td>5345</td>\n",
       "      <td>2550</td>\n",
       "      <td>2250</td>\n",
       "      <td>NaN</td>\n",
       "      <td>NaN</td>\n",
       "      <td>NaN</td>\n",
       "    </tr>\n",
       "  </tbody>\n",
       "</table>\n",
       "<p>5 rows × 2391 columns</p>\n",
       "</div>"
      ],
      "text/plain": [
       "                OPEID  OPEID6                               INSTNM  \\\n",
       "UNITID Year                                                          \n",
       "100636 2001  01230800  012308   Community College of the Air Force   \n",
       "100654 2001  00100200  001002             Alabama A & M University   \n",
       "100663 2001  00105200  001052  University of Alabama at Birmingham   \n",
       "100690 2001  02503400  025034                   Amridge University   \n",
       "100706 2001  00105500  001055  University of Alabama in Huntsville   \n",
       "\n",
       "                   CITY STABBR         ZIP ACCREDAGENCY INSTURL NPCURL  \\\n",
       "UNITID Year                                                              \n",
       "100636 2001  Montgomery     AL  36114-3011          NaN     NaN    NaN   \n",
       "100654 2001      Normal     AL       35762          NaN     NaN    NaN   \n",
       "100663 2001  Birmingham     AL  35294-0110          NaN     NaN    NaN   \n",
       "100690 2001  Montgomery     AL  36117-3553          NaN     NaN    NaN   \n",
       "100706 2001  Huntsville     AL       35899          NaN     NaN    NaN   \n",
       "\n",
       "            SCH_DEG  ... FEDSCHCD BOOKSUPPLY ROOMBOARD_ON OTHEREXPENSE_ON  \\\n",
       "UNITID Year          ...                                                    \n",
       "100636 2001     NaN  ...      NaN          0            0               0   \n",
       "100654 2001       3  ...      NaN        800         4500            1000   \n",
       "100663 2001       3  ...      NaN        900         6471            2438   \n",
       "100690 2001       3  ...      NaN        NaN          NaN             NaN   \n",
       "100706 2001       3  ...      NaN        720         4300            2100   \n",
       "\n",
       "            ROOMBOARD_OFF OTHEREXPENSE_OFF OTHEREXPENSE_FAM ENDOWBEGIN  \\\n",
       "UNITID Year                                                              \n",
       "100636 2001           NaN              NaN              NaN        NaN   \n",
       "100654 2001          6000             1500              600        NaN   \n",
       "100663 2001          7875             3375             3375        NaN   \n",
       "100690 2001           NaN              NaN              NaN        NaN   \n",
       "100706 2001          5345             2550             2250        NaN   \n",
       "\n",
       "            ENDOWEND DOLPROVIDER  \n",
       "UNITID Year                       \n",
       "100636 2001      NaN         NaN  \n",
       "100654 2001      NaN         NaN  \n",
       "100663 2001      NaN         NaN  \n",
       "100690 2001      NaN         NaN  \n",
       "100706 2001      NaN         NaN  \n",
       "\n",
       "[5 rows x 2391 columns]"
      ]
     },
     "execution_count": 6,
     "metadata": {},
     "output_type": "execute_result"
    }
   ],
   "source": [
    "df.head()"
   ]
  },
  {
   "cell_type": "markdown",
   "metadata": {
    "id": "clear-playlist"
   },
   "source": [
    "### Save merged csv to disk\n",
    "\n",
    "Next time, this merged csv can be read directly to skip the time-consuming step of reading each year separately."
   ]
  },
  {
   "cell_type": "code",
   "execution_count": 7,
   "metadata": {
    "id": "minor-small"
   },
   "outputs": [],
   "source": [
    "df.to_csv('ALLMERGED.csv') # Export to csv"
   ]
  },
  {
   "cell_type": "code",
   "execution_count": 8,
   "metadata": {
    "id": "conventional-marshall"
   },
   "outputs": [],
   "source": [
    "## Use this to read in merged csv directly\n",
    "df = pd.read_csv('ALLMERGED.csv', dtype='unicode',na_values='PrivacySuppressed') "
   ]
  },
  {
   "cell_type": "markdown",
   "metadata": {
    "id": "floppy-oasis"
   },
   "source": [
    "# Data cleaning\n",
    "\n",
    "To begin, columns with more than 60% ```NaN``` values are omitted. This can percentage can be changed in the code. Three variables related to earnings post-graduation are added back in, ```MN_EARN_WNE_P6,MN_EARN_WNE_P8,MN_EARN_WNE_P10```. There are likely more that can be added back easily."
   ]
  },
  {
   "cell_type": "markdown",
   "metadata": {
    "id": "hispanic-delivery"
   },
   "source": [
    "### Dropping columns with too many ```NaN```"
   ]
  },
  {
   "cell_type": "code",
   "execution_count": 9,
   "metadata": {
    "id": "legal-constant"
   },
   "outputs": [],
   "source": [
    "# Function to get a table of missing values\n",
    "def missing_values_table(df):\n",
    "    mis_val = df.isnull().sum()\n",
    "    mis_val_percent = 100 * df.isnull().sum() / len(df)\n",
    "    mis_val_table = pd.concat([mis_val, mis_val_percent], axis=1)\n",
    "    mis_val_table_ren_columns = mis_val_table.rename(\n",
    "    columns = {0 : 'Missing Values', 1 : '% of Total Values'})\n",
    "    mis_val_table_ren_columns = mis_val_table_ren_columns[\n",
    "        mis_val_table_ren_columns.iloc[:,1] != 0].sort_values(\n",
    "    '% of Total Values', ascending=False).round(1)\n",
    "    print (\"Your selected dataframe has \" + str(df.shape[1]) + \" columns.\\n\"      \n",
    "        \"There are \" + str(mis_val_table_ren_columns.shape[0]) +\n",
    "            \" columns that have missing values.\")\n",
    "    return mis_val_table_ren_columns"
   ]
  },
  {
   "cell_type": "code",
   "execution_count": 10,
   "metadata": {
    "id": "chinese-focus",
    "outputId": "72bc655e-cdc5-4974-95fe-922425fae0c7"
   },
   "outputs": [
    {
     "name": "stdout",
     "output_type": "stream",
     "text": [
      "Your selected dataframe has 2393 columns.\n",
      "There are 2380 columns that have missing values.\n"
     ]
    },
    {
     "data": {
      "text/html": [
       "<div>\n",
       "<style scoped>\n",
       "    .dataframe tbody tr th:only-of-type {\n",
       "        vertical-align: middle;\n",
       "    }\n",
       "\n",
       "    .dataframe tbody tr th {\n",
       "        vertical-align: top;\n",
       "    }\n",
       "\n",
       "    .dataframe thead th {\n",
       "        text-align: right;\n",
       "    }\n",
       "</style>\n",
       "<table border=\"1\" class=\"dataframe\">\n",
       "  <thead>\n",
       "    <tr style=\"text-align: right;\">\n",
       "      <th></th>\n",
       "      <th>Missing Values</th>\n",
       "      <th>% of Total Values</th>\n",
       "    </tr>\n",
       "  </thead>\n",
       "  <tbody>\n",
       "    <tr>\n",
       "      <td>ACCREDAGENCY</td>\n",
       "      <td>107257</td>\n",
       "      <td>100.0</td>\n",
       "    </tr>\n",
       "    <tr>\n",
       "      <td>OMENRUP_PARTTIME_POOLED_SUPP</td>\n",
       "      <td>107257</td>\n",
       "      <td>100.0</td>\n",
       "    </tr>\n",
       "    <tr>\n",
       "      <td>OMENRAP_FIRSTTIME_POOLED_SUPP</td>\n",
       "      <td>107257</td>\n",
       "      <td>100.0</td>\n",
       "    </tr>\n",
       "    <tr>\n",
       "      <td>OMAWDP8_FIRSTTIME_POOLED_SUPP</td>\n",
       "      <td>107257</td>\n",
       "      <td>100.0</td>\n",
       "    </tr>\n",
       "    <tr>\n",
       "      <td>OMENRUP_FIRSTTIME_POOLED_SUPP</td>\n",
       "      <td>107257</td>\n",
       "      <td>100.0</td>\n",
       "    </tr>\n",
       "  </tbody>\n",
       "</table>\n",
       "</div>"
      ],
      "text/plain": [
       "                               Missing Values  % of Total Values\n",
       "ACCREDAGENCY                           107257              100.0\n",
       "OMENRUP_PARTTIME_POOLED_SUPP           107257              100.0\n",
       "OMENRAP_FIRSTTIME_POOLED_SUPP          107257              100.0\n",
       "OMAWDP8_FIRSTTIME_POOLED_SUPP          107257              100.0\n",
       "OMENRUP_FIRSTTIME_POOLED_SUPP          107257              100.0"
      ]
     },
     "execution_count": 10,
     "metadata": {},
     "output_type": "execute_result"
    }
   ],
   "source": [
    "mis_val = missing_values_table(df)\n",
    "mis_val.head()"
   ]
  },
  {
   "cell_type": "code",
   "execution_count": 11,
   "metadata": {
    "id": "ordered-rebate",
    "outputId": "b2ce688b-e061-44d5-edef-7c60741803dd"
   },
   "outputs": [
    {
     "name": "stderr",
     "output_type": "stream",
     "text": [
      "/Users/meng/opt/anaconda3/lib/python3.7/site-packages/ipykernel_launcher.py:7: SettingWithCopyWarning: \n",
      "A value is trying to be set on a copy of a slice from a DataFrame.\n",
      "Try using .loc[row_indexer,col_indexer] = value instead\n",
      "\n",
      "See the caveats in the documentation: http://pandas.pydata.org/pandas-docs/stable/user_guide/indexing.html#returning-a-view-versus-a-copy\n",
      "  import sys\n"
     ]
    }
   ],
   "source": [
    "# Drop columms with more than 60% NaN\n",
    "df_dropna = df.dropna(thresh=df.shape[0]*0.6,how='all',axis=1)\n",
    "\n",
    "# Add back in certain columns\n",
    "cols_to_add = ['MN_EARN_WNE_P6','MN_EARN_WNE_P8','MN_EARN_WNE_P10']\n",
    "for col in cols_to_add:\n",
    "    df_dropna[col] = df[col]"
   ]
  },
  {
   "cell_type": "code",
   "execution_count": 12,
   "metadata": {
    "id": "brilliant-breakdown",
    "outputId": "65bbe73d-97c4-485c-96b5-4cf34703d7ef"
   },
   "outputs": [
    {
     "name": "stdout",
     "output_type": "stream",
     "text": [
      "Shape before: (107257, 2393)  Shape after: (107257, 395)\n"
     ]
    }
   ],
   "source": [
    "print(\"Shape before:\", df.shape, \" Shape after:\", df_dropna.shape)"
   ]
  },
  {
   "cell_type": "markdown",
   "metadata": {
    "id": "reliable-cheese"
   },
   "source": [
    "Drop columns ending in ```ASSOC, CERT1, CERT2, CERT4, BACHL```. These correspond to whether an institution offers bachelors, associate degree, and diploma for 1, 2, and 4 years in the program."
   ]
  },
  {
   "cell_type": "code",
   "execution_count": 13,
   "metadata": {
    "id": "accredited-crazy"
   },
   "outputs": [],
   "source": [
    "df_drop2 = df_dropna.loc[:, ~df_dropna.columns.str.endswith('ASSOC')]\n",
    "df_drop2 = df_drop2.loc[:, ~df_drop2.columns.str.endswith('CERT2')]\n",
    "df_drop2 = df_drop2.loc[:, ~df_drop2.columns.str.endswith('CERT1')]\n",
    "df_drop2 = df_drop2.loc[:, ~df_drop2.columns.str.endswith('CERT4')]\n",
    "df_drop2 = df_drop2.loc[:, ~df_drop2.columns.str.startswith('BACHL')] #PCIP"
   ]
  },
  {
   "cell_type": "code",
   "execution_count": 14,
   "metadata": {
    "id": "opposed-skating",
    "outputId": "db5555ce-0316-41af-8994-c21a6731aa36"
   },
   "outputs": [
    {
     "name": "stdout",
     "output_type": "stream",
     "text": [
      "Shape before: (107257, 395)  Shape after: (107257, 243)\n"
     ]
    }
   ],
   "source": [
    "print(\"Shape before:\", df_dropna.shape, \" Shape after:\", df_drop2.shape)"
   ]
  },
  {
   "cell_type": "markdown",
   "metadata": {
    "id": "manufactured-spyware"
   },
   "source": [
    "### Sum fields of studies into broader categories\n",
    "\n",
    "Here the ```PCIP``` variables are used, which represent percentage of students in a specific field "
   ]
  },
  {
   "cell_type": "code",
   "execution_count": 41,
   "metadata": {
    "id": "loaded-ideal"
   },
   "outputs": [],
   "source": [
    "df_drop3 = df_drop2.copy()"
   ]
  },
  {
   "cell_type": "markdown",
   "metadata": {
    "id": "jewish-voltage"
   },
   "source": [
    "### Clumping fields of studies into broad categories"
   ]
  },
  {
   "cell_type": "code",
   "execution_count": 42,
   "metadata": {
    "id": "adapted-scoop"
   },
   "outputs": [],
   "source": [
    "natresources = ['PCIP01','PCIP03','PCIP31']\n",
    "social = ['PCIP05','PCIP09','PCIP13','PCIP19','PCIP22','PCIP30','PCIP44','PCIP45','PCIP51']\n",
    "stem = ['PCIP04','PCIP11','PCIP14','PCIP15','PCIP26','PCIP27','PCIP29','PCIP40','PCIP41','PCIP42','PCIP47']\n",
    "humanities = ['PCIP16','PCIP23','PCIP24','PCIP38','PCIP39','PCIP50','PCIP54']\n",
    "techtrade = ['PCIP10','PCIP12','PCIP25','PCIP43','PCIP46','PCIP48','PCIP49']\n",
    "business = ['PCIP52']\n",
    "\n",
    "def sumcols(df, columns, summedcolname):\n",
    "    for col in columns:\n",
    "        df[col] = df[col].astype(float)\n",
    "\n",
    "    df[summedcolname] = df[columns].sum(axis=1)\n",
    "\n",
    "sumcols(df_drop3,natresources,\"Field_NR\")\n",
    "sumcols(df_drop3,social,\"Field_social\")\n",
    "sumcols(df_drop3,stem,\"Field_STEM\")\n",
    "sumcols(df_drop3,humanities,\"Field_AH\")\n",
    "sumcols(df_drop3,techtrade,\"Field_techtrade\")\n",
    "sumcols(df_drop3,business,\"Field_bus\")"
   ]
  },
  {
   "cell_type": "code",
   "execution_count": 43,
   "metadata": {
    "id": "behind-heath",
    "outputId": "448ca2b9-d7bc-423f-8c09-fb8d7a845bba"
   },
   "outputs": [
    {
     "data": {
      "text/plain": [
       "26186     1.0001\n",
       "1939      1.0001\n",
       "61988     1.0001\n",
       "39702     1.0001\n",
       "26442     1.0001\n",
       "           ...  \n",
       "67154     0.0000\n",
       "67155     0.0000\n",
       "25477     0.0000\n",
       "67157     0.0000\n",
       "107256    0.0000\n",
       "Name: Field_STEM, Length: 107257, dtype: float64"
      ]
     },
     "execution_count": 43,
     "metadata": {},
     "output_type": "execute_result"
    }
   ],
   "source": [
    "df_drop3.head()\n",
    "df_drop3.sort_values(by='Field_STEM', ascending=False)[\"Field_STEM\"]"
   ]
  },
  {
   "cell_type": "code",
   "execution_count": 44,
   "metadata": {
    "id": "significant-burner"
   },
   "outputs": [],
   "source": [
    "df_drop3[\"TUITFTE\"] = df_drop3[\"TUITFTE\"].astype(float)\n",
    "df_drop3.loc[~(df_drop3['TUITFTE'] > 1), 'TUITFTE']=np.nan"
   ]
  },
  {
   "cell_type": "markdown",
   "metadata": {
    "id": "appointed-heaven"
   },
   "source": [
    "### Exploratory data analysis: some plots"
   ]
  },
  {
   "cell_type": "code",
   "execution_count": 19,
   "metadata": {
    "id": "separated-square",
    "outputId": "1a69d532-9440-4adb-cbcb-1647ac0e8320",
    "scrolled": true
   },
   "outputs": [
    {
     "data": {
      "image/png": "[encoded data removed]",
      "text/plain": [
       "<Figure size 432x288 with 1 Axes>"
      ]
     },
     "metadata": {
      "needs_background": "light"
     },
     "output_type": "display_data"
    }
   ],
   "source": [
    "# Boxplot of TUITFTE over the years\n",
    "ax = sns.boxplot(x=\"Year\", y=\"TUITFTE\", data=df_drop3)\n",
    "sns.set(rc={'figure.figsize':(19.7,6.27)})\n",
    "ax.set(yscale=\"log\")\n",
    "ax.set(ylim=(1000,10000000))\n",
    "ax.set_title(\"Year vs Net tuition revenue per FTE student\",fontsize=25)\n",
    "ax.set_xlabel('Year', fontsize=20)\n",
    "ax.set_ylabel('Net tuition revenue per FTE student', fontsize=20)\n",
    "ax.tick_params(axis='x', labelsize=18)\n",
    "ax.tick_params(axis='y', labelsize=18)\n",
    "medians = df_drop3.groupby(['Year'])['TUITFTE'].median()\n",
    "vertical_offset = df_drop3['TUITFTE'].median() * 0.05 # offset from median for display\n",
    "\n",
    "for xtick in ax.get_xticks():\n",
    "    ax.text(xtick,medians[xtick] + vertical_offset,medians[xtick], \n",
    "            horizontalalignment='center',size='medium',color='w',weight='semibold')\n",
    "ax.get_figure().savefig('Year_vs_TUITFTE.png')"
   ]
  },
  {
   "cell_type": "code",
   "execution_count": 20,
   "metadata": {
    "id": "sharp-economy",
    "outputId": "c890455d-7e48-4c27-c2ed-1ad1e2d3aea8"
   },
   "outputs": [
    {
     "data": {
      "text/plain": [
       "20284     26670163.0\n",
       "596       11932462.0\n",
       "1476      10414750.0\n",
       "31713      8969462.0\n",
       "33327      7014195.0\n",
       "             ...    \n",
       "107252           NaN\n",
       "107253           NaN\n",
       "107254           NaN\n",
       "107255           NaN\n",
       "107256           NaN\n",
       "Name: TUITFTE, Length: 107257, dtype: float64"
      ]
     },
     "execution_count": 20,
     "metadata": {},
     "output_type": "execute_result"
    }
   ],
   "source": [
    "df_drop3.sort_values(by='TUITFTE', ascending=False)[\"TUITFTE\"]"
   ]
  },
  {
   "cell_type": "code",
   "execution_count": 21,
   "metadata": {
    "id": "facial-inspiration",
    "outputId": "4eafe4d8-a7af-484c-88c6-6661018988ea"
   },
   "outputs": [
    {
     "name": "stderr",
     "output_type": "stream",
     "text": [
      "posx and posy should be finite values\n",
      "posx and posy should be finite values\n",
      "posx and posy should be finite values\n",
      "posx and posy should be finite values\n",
      "posx and posy should be finite values\n",
      "posx and posy should be finite values\n",
      "posx and posy should be finite values\n",
      "posx and posy should be finite values\n",
      "posx and posy should be finite values\n",
      "posx and posy should be finite values\n",
      "posx and posy should be finite values\n",
      "posx and posy should be finite values\n",
      "posx and posy should be finite values\n",
      "posx and posy should be finite values\n",
      "posx and posy should be finite values\n",
      "posx and posy should be finite values\n",
      "posx and posy should be finite values\n",
      "posx and posy should be finite values\n",
      "posx and posy should be finite values\n",
      "posx and posy should be finite values\n",
      "posx and posy should be finite values\n",
      "posx and posy should be finite values\n",
      "posx and posy should be finite values\n",
      "posx and posy should be finite values\n",
      "posx and posy should be finite values\n",
      "posx and posy should be finite values\n",
      "posx and posy should be finite values\n",
      "posx and posy should be finite values\n"
     ]
    },
    {
     "data": {
      "image/png": "[encoded data removed]",
      "text/plain": [
       "<Figure size 1418.4x451.44 with 1 Axes>"
      ]
     },
     "metadata": {},
     "output_type": "display_data"
    }
   ],
   "source": [
    "# Boxplot of MN_EARN_WNE_P6 over the years\n",
    "df_drop3[\"MN_EARN_WNE_P6\"] = df_drop3[\"MN_EARN_WNE_P6\"].astype(float)\n",
    "ax = sns.boxplot(x=\"Year\", y=\"MN_EARN_WNE_P6\", data=df_drop3)\n",
    "sns.set(rc={'figure.figsize':(19.7,6.27)})\n",
    "# ax.set(yscale=\"log\")\n",
    "# ax.set(ylim=(1000,10000000))\n",
    "ax.set_title(\"Year vs Median salary after 6 years\",fontsize=25)\n",
    "ax.set_xlabel('Year', fontsize=20)\n",
    "ax.set_ylabel('Median salary after 6 years', fontsize=20)\n",
    "ax.tick_params(axis='x', labelsize=18)\n",
    "ax.tick_params(axis='y', labelsize=18)\n",
    "medians = df_drop3.groupby(['Year'])['MN_EARN_WNE_P6'].median()\n",
    "vertical_offset = df_drop3['MN_EARN_WNE_P6'].median() * 0.05 # offset from median for display\n",
    "\n",
    "for xtick in ax.get_xticks():\n",
    "    ax.text(xtick,medians[xtick] + vertical_offset,medians[xtick], \n",
    "            horizontalalignment='center',size='medium',color='w',weight='semibold')\n",
    "ax.get_figure().savefig('Year_vs_MN_EARN_WNE_P6.png')\n"
   ]
  },
  {
   "cell_type": "code",
   "execution_count": 22,
   "metadata": {
    "id": "apparent-ladder",
    "outputId": "6e782ac3-4c59-4096-a1e8-abfaba0e15d0"
   },
   "outputs": [
    {
     "data": {
      "image/png": "[encoded data removed]",
      "text/plain": [
       "<Figure size 1418.4x451.44 with 1 Axes>"
      ]
     },
     "metadata": {},
     "output_type": "display_data"
    }
   ],
   "source": [
    "# Boxplot of DEBT_MDN over the years\n",
    "df_drop3[\"DEBT_MDN\"] = df_drop3[\"DEBT_MDN\"].astype(float)\n",
    "ax = sns.boxplot(x=\"Year\", y=\"DEBT_MDN\", data=df_drop3)\n",
    "sns.set(rc={'figure.figsize':(19.7,6.27)})\n",
    "# ax.set(yscale=\"log\")\n",
    "# ax.set(ylim=(1000,10000000))\n",
    "ax.set_title(\"Year vs Median debt\",fontsize=25)\n",
    "ax.set_xlabel('Year', fontsize=20)\n",
    "ax.set_ylabel('Median debt', fontsize=20)\n",
    "ax.tick_params(axis='x', labelsize=18)\n",
    "ax.tick_params(axis='y', labelsize=18)\n",
    "medians = df_drop3.groupby(['Year'])['DEBT_MDN'].median()\n",
    "vertical_offset = df_drop3['DEBT_MDN'].median() * 0.05 # offset from median for display\n",
    "\n",
    "for xtick in ax.get_xticks():\n",
    "    ax.text(xtick,medians[xtick] + vertical_offset,medians[xtick], \n",
    "            horizontalalignment='center',size='medium',color='w',weight='semibold')\n",
    "ax.get_figure().savefig('Year_vs_DEBT_MDN.png')\n"
   ]
  },
  {
   "cell_type": "code",
   "execution_count": 23,
   "metadata": {
    "id": "dying-swaziland",
    "outputId": "5eec6a81-e606-48f7-bb46-1333e41e0531"
   },
   "outputs": [
    {
     "ename": "AttributeError",
     "evalue": "module 'seaborn' has no attribute 'histplot'",
     "output_type": "error",
     "traceback": [
      "\u001b[0;31m---------------------------------------------------------------------------\u001b[0m",
      "\u001b[0;31mAttributeError\u001b[0m                            Traceback (most recent call last)",
      "\u001b[0;32m<ipython-input-23-bcd98c5826e8>\u001b[0m in \u001b[0;36m<module>\u001b[0;34m\u001b[0m\n\u001b[1;32m      2\u001b[0m \u001b[0mdf_drop3cut\u001b[0m \u001b[0;34m=\u001b[0m \u001b[0mdf_drop3\u001b[0m\u001b[0;34m[\u001b[0m\u001b[0;34m(\u001b[0m\u001b[0mdf_drop3\u001b[0m\u001b[0;34m[\u001b[0m\u001b[0;34m'TUITFTE'\u001b[0m\u001b[0;34m]\u001b[0m\u001b[0;34m.\u001b[0m\u001b[0mbetween\u001b[0m\u001b[0;34m(\u001b[0m\u001b[0;36m0\u001b[0m\u001b[0;34m,\u001b[0m \u001b[0;36m25000\u001b[0m\u001b[0;34m)\u001b[0m\u001b[0;34m)\u001b[0m \u001b[0;34m&\u001b[0m \u001b[0;34m(\u001b[0m\u001b[0mdf_drop3\u001b[0m\u001b[0;34m[\u001b[0m\u001b[0;34m\"MALE_DEBT_MDN\"\u001b[0m\u001b[0;34m]\u001b[0m\u001b[0;34m.\u001b[0m\u001b[0mbetween\u001b[0m\u001b[0;34m(\u001b[0m\u001b[0;36m0\u001b[0m\u001b[0;34m,\u001b[0m \u001b[0;36m20000\u001b[0m\u001b[0;34m)\u001b[0m\u001b[0;34m)\u001b[0m\u001b[0;34m]\u001b[0m\u001b[0;34m\u001b[0m\u001b[0;34m\u001b[0m\u001b[0m\n\u001b[1;32m      3\u001b[0m \u001b[0msns\u001b[0m\u001b[0;34m.\u001b[0m\u001b[0mset\u001b[0m\u001b[0;34m(\u001b[0m\u001b[0mrc\u001b[0m\u001b[0;34m=\u001b[0m\u001b[0;34m{\u001b[0m\u001b[0;34m'figure.figsize'\u001b[0m\u001b[0;34m:\u001b[0m\u001b[0;34m(\u001b[0m\u001b[0;36m5\u001b[0m\u001b[0;34m,\u001b[0m\u001b[0;36m5\u001b[0m\u001b[0;34m)\u001b[0m\u001b[0;34m}\u001b[0m\u001b[0;34m)\u001b[0m\u001b[0;34m\u001b[0m\u001b[0;34m\u001b[0m\u001b[0m\n\u001b[0;32m----> 4\u001b[0;31m \u001b[0max\u001b[0m \u001b[0;34m=\u001b[0m \u001b[0msns\u001b[0m\u001b[0;34m.\u001b[0m\u001b[0mhistplot\u001b[0m\u001b[0;34m(\u001b[0m\u001b[0mdf_drop3cut\u001b[0m\u001b[0;34m,\u001b[0m \u001b[0my\u001b[0m\u001b[0;34m=\u001b[0m\u001b[0;34m\"TUITFTE\"\u001b[0m\u001b[0;34m,\u001b[0m \u001b[0mx\u001b[0m\u001b[0;34m=\u001b[0m\u001b[0;34m\"MALE_DEBT_MDN\"\u001b[0m\u001b[0;34m,\u001b[0m \u001b[0mbins\u001b[0m\u001b[0;34m=\u001b[0m\u001b[0;36m50\u001b[0m\u001b[0;34m,\u001b[0m \u001b[0mpthresh\u001b[0m\u001b[0;34m=\u001b[0m\u001b[0;36m.1\u001b[0m\u001b[0;34m,\u001b[0m \u001b[0mcmap\u001b[0m\u001b[0;34m=\u001b[0m\u001b[0;34m\"mako\"\u001b[0m\u001b[0;34m)\u001b[0m\u001b[0;34m\u001b[0m\u001b[0;34m\u001b[0m\u001b[0m\n\u001b[0m\u001b[1;32m      5\u001b[0m \u001b[0;31m# plt.title(\"Median debt  vs Net tuition revenue\")\u001b[0m\u001b[0;34m\u001b[0m\u001b[0;34m\u001b[0m\u001b[0;34m\u001b[0m\u001b[0m\n\u001b[1;32m      6\u001b[0m \u001b[0max\u001b[0m\u001b[0;34m.\u001b[0m\u001b[0mset_title\u001b[0m\u001b[0;34m(\u001b[0m\u001b[0;34m\"Median debt (male) vs Net tuition revenue\"\u001b[0m\u001b[0;34m,\u001b[0m\u001b[0mfontsize\u001b[0m\u001b[0;34m=\u001b[0m\u001b[0;36m25\u001b[0m\u001b[0;34m)\u001b[0m\u001b[0;34m\u001b[0m\u001b[0;34m\u001b[0m\u001b[0m\n",
      "\u001b[0;31mAttributeError\u001b[0m: module 'seaborn' has no attribute 'histplot'"
     ]
    }
   ],
   "source": [
    "df_drop3[\"MALE_DEBT_MDN\"] = df_drop3[\"MALE_DEBT_MDN\"].astype(float)\n",
    "df_drop3cut = df_drop3[(df_drop3['TUITFTE'].between(0, 25000)) & (df_drop3[\"MALE_DEBT_MDN\"].between(0, 20000))]\n",
    "sns.set(rc={'figure.figsize':(5,5)})\n",
    "ax = sns.histplot(df_drop3cut, y=\"TUITFTE\", x=\"MALE_DEBT_MDN\", bins=50, pthresh=.1, cmap=\"mako\")\n",
    "# plt.title(\"Median debt  vs Net tuition revenue\")\n",
    "ax.set_title(\"Median debt (male) vs Net tuition revenue\",fontsize=25)\n",
    "ax.set_xlabel('Median debt', fontsize=20)\n",
    "ax.set_ylabel('Net tuition revenue', fontsize=20)\n",
    "ax.tick_params(axis='x', labelsize=18)\n",
    "ax.tick_params(axis='y', labelsize=18)"
   ]
  },
  {
   "cell_type": "code",
   "execution_count": 24,
   "metadata": {
    "id": "fantastic-photographer",
    "outputId": "3c966626-8150-44a5-c9ca-331a33a9c8c0"
   },
   "outputs": [
    {
     "ename": "AttributeError",
     "evalue": "module 'seaborn' has no attribute 'histplot'",
     "output_type": "error",
     "traceback": [
      "\u001b[0;31m---------------------------------------------------------------------------\u001b[0m",
      "\u001b[0;31mAttributeError\u001b[0m                            Traceback (most recent call last)",
      "\u001b[0;32m<ipython-input-24-62894ed8bc8b>\u001b[0m in \u001b[0;36m<module>\u001b[0;34m\u001b[0m\n\u001b[1;32m      2\u001b[0m \u001b[0mdf_drop3cut\u001b[0m \u001b[0;34m=\u001b[0m \u001b[0mdf_drop3\u001b[0m\u001b[0;34m[\u001b[0m\u001b[0;34m(\u001b[0m\u001b[0mdf_drop3\u001b[0m\u001b[0;34m[\u001b[0m\u001b[0;34m'TUITFTE'\u001b[0m\u001b[0;34m]\u001b[0m\u001b[0;34m.\u001b[0m\u001b[0mbetween\u001b[0m\u001b[0;34m(\u001b[0m\u001b[0;36m0\u001b[0m\u001b[0;34m,\u001b[0m \u001b[0;36m25000\u001b[0m\u001b[0;34m)\u001b[0m\u001b[0;34m)\u001b[0m \u001b[0;34m&\u001b[0m \u001b[0;34m(\u001b[0m\u001b[0mdf_drop3\u001b[0m\u001b[0;34m[\u001b[0m\u001b[0;34m\"FEMALE_DEBT_MDN\"\u001b[0m\u001b[0;34m]\u001b[0m\u001b[0;34m.\u001b[0m\u001b[0mbetween\u001b[0m\u001b[0;34m(\u001b[0m\u001b[0;36m0\u001b[0m\u001b[0;34m,\u001b[0m \u001b[0;36m20000\u001b[0m\u001b[0;34m)\u001b[0m\u001b[0;34m)\u001b[0m\u001b[0;34m]\u001b[0m\u001b[0;34m\u001b[0m\u001b[0;34m\u001b[0m\u001b[0m\n\u001b[1;32m      3\u001b[0m \u001b[0msns\u001b[0m\u001b[0;34m.\u001b[0m\u001b[0mset\u001b[0m\u001b[0;34m(\u001b[0m\u001b[0mrc\u001b[0m\u001b[0;34m=\u001b[0m\u001b[0;34m{\u001b[0m\u001b[0;34m'figure.figsize'\u001b[0m\u001b[0;34m:\u001b[0m\u001b[0;34m(\u001b[0m\u001b[0;36m5\u001b[0m\u001b[0;34m,\u001b[0m\u001b[0;36m5\u001b[0m\u001b[0;34m)\u001b[0m\u001b[0;34m}\u001b[0m\u001b[0;34m)\u001b[0m\u001b[0;34m\u001b[0m\u001b[0;34m\u001b[0m\u001b[0m\n\u001b[0;32m----> 4\u001b[0;31m \u001b[0max\u001b[0m \u001b[0;34m=\u001b[0m \u001b[0msns\u001b[0m\u001b[0;34m.\u001b[0m\u001b[0mhistplot\u001b[0m\u001b[0;34m(\u001b[0m\u001b[0mdf_drop3cut\u001b[0m\u001b[0;34m,\u001b[0m \u001b[0my\u001b[0m\u001b[0;34m=\u001b[0m\u001b[0;34m\"TUITFTE\"\u001b[0m\u001b[0;34m,\u001b[0m \u001b[0mx\u001b[0m\u001b[0;34m=\u001b[0m\u001b[0;34m\"FEMALE_DEBT_MDN\"\u001b[0m\u001b[0;34m,\u001b[0m \u001b[0mbins\u001b[0m\u001b[0;34m=\u001b[0m\u001b[0;36m50\u001b[0m\u001b[0;34m,\u001b[0m \u001b[0mpthresh\u001b[0m\u001b[0;34m=\u001b[0m\u001b[0;36m.1\u001b[0m\u001b[0;34m,\u001b[0m \u001b[0mcmap\u001b[0m\u001b[0;34m=\u001b[0m\u001b[0;34m\"mako\"\u001b[0m\u001b[0;34m)\u001b[0m\u001b[0;34m\u001b[0m\u001b[0;34m\u001b[0m\u001b[0m\n\u001b[0m\u001b[1;32m      5\u001b[0m \u001b[0;31m# plt.title(\"Median debt vs Net tuition revenue\")\u001b[0m\u001b[0;34m\u001b[0m\u001b[0;34m\u001b[0m\u001b[0;34m\u001b[0m\u001b[0m\n\u001b[1;32m      6\u001b[0m \u001b[0max\u001b[0m\u001b[0;34m.\u001b[0m\u001b[0mset_title\u001b[0m\u001b[0;34m(\u001b[0m\u001b[0;34m\"Median debt (female) vs Net tuition revenue\"\u001b[0m\u001b[0;34m,\u001b[0m\u001b[0mfontsize\u001b[0m\u001b[0;34m=\u001b[0m\u001b[0;36m25\u001b[0m\u001b[0;34m)\u001b[0m\u001b[0;34m\u001b[0m\u001b[0;34m\u001b[0m\u001b[0m\n",
      "\u001b[0;31mAttributeError\u001b[0m: module 'seaborn' has no attribute 'histplot'"
     ]
    }
   ],
   "source": [
    "df_drop3[\"FEMALE_DEBT_MDN\"] = df_drop3[\"FEMALE_DEBT_MDN\"].astype(float)\n",
    "df_drop3cut = df_drop3[(df_drop3['TUITFTE'].between(0, 25000)) & (df_drop3[\"FEMALE_DEBT_MDN\"].between(0, 20000))]\n",
    "sns.set(rc={'figure.figsize':(5,5)})\n",
    "ax = sns.histplot(df_drop3cut, y=\"TUITFTE\", x=\"FEMALE_DEBT_MDN\", bins=50, pthresh=.1, cmap=\"mako\")\n",
    "# plt.title(\"Median debt vs Net tuition revenue\")\n",
    "ax.set_title(\"Median debt (female) vs Net tuition revenue\",fontsize=25)\n",
    "ax.set_xlabel('Median debt', fontsize=20)\n",
    "ax.set_ylabel('Net tuition revenue', fontsize=20)\n",
    "ax.tick_params(axis='x', labelsize=18)\n",
    "ax.tick_params(axis='y', labelsize=18)"
   ]
  },
  {
   "cell_type": "code",
   "execution_count": 25,
   "metadata": {
    "id": "surrounded-connectivity",
    "outputId": "eb7b8eb7-470f-4c6d-ec41-c03fa8a90fe1",
    "scrolled": true
   },
   "outputs": [
    {
     "ename": "AttributeError",
     "evalue": "module 'seaborn' has no attribute 'histplot'",
     "output_type": "error",
     "traceback": [
      "\u001b[0;31m---------------------------------------------------------------------------\u001b[0m",
      "\u001b[0;31mAttributeError\u001b[0m                            Traceback (most recent call last)",
      "\u001b[0;32m<ipython-input-25-99661610b6e8>\u001b[0m in \u001b[0;36m<module>\u001b[0;34m\u001b[0m\n\u001b[1;32m      1\u001b[0m \u001b[0msns\u001b[0m\u001b[0;34m.\u001b[0m\u001b[0mset\u001b[0m\u001b[0;34m(\u001b[0m\u001b[0mrc\u001b[0m\u001b[0;34m=\u001b[0m\u001b[0;34m{\u001b[0m\u001b[0;34m'figure.figsize'\u001b[0m\u001b[0;34m:\u001b[0m\u001b[0;34m(\u001b[0m\u001b[0;36m5\u001b[0m\u001b[0;34m,\u001b[0m\u001b[0;36m5\u001b[0m\u001b[0;34m)\u001b[0m\u001b[0;34m}\u001b[0m\u001b[0;34m)\u001b[0m\u001b[0;34m\u001b[0m\u001b[0;34m\u001b[0m\u001b[0m\n\u001b[0;32m----> 2\u001b[0;31m \u001b[0max\u001b[0m \u001b[0;34m=\u001b[0m \u001b[0msns\u001b[0m\u001b[0;34m.\u001b[0m\u001b[0mhistplot\u001b[0m\u001b[0;34m(\u001b[0m\u001b[0mdf_drop3cut\u001b[0m\u001b[0;34m,\u001b[0m \u001b[0mx\u001b[0m\u001b[0;34m=\u001b[0m\u001b[0;34m\"FEMALE_DEBT_MDN\"\u001b[0m\u001b[0;34m,\u001b[0m \u001b[0mbins\u001b[0m\u001b[0;34m=\u001b[0m\u001b[0;36m20\u001b[0m\u001b[0;34m)\u001b[0m\u001b[0;34m\u001b[0m\u001b[0;34m\u001b[0m\u001b[0m\n\u001b[0m\u001b[1;32m      3\u001b[0m \u001b[0msns\u001b[0m\u001b[0;34m.\u001b[0m\u001b[0mset\u001b[0m\u001b[0;34m(\u001b[0m\u001b[0mrc\u001b[0m\u001b[0;34m=\u001b[0m\u001b[0;34m{\u001b[0m\u001b[0;34m'figure.figsize'\u001b[0m\u001b[0;34m:\u001b[0m\u001b[0;34m(\u001b[0m\u001b[0;36m10\u001b[0m\u001b[0;34m,\u001b[0m\u001b[0;36m10\u001b[0m\u001b[0;34m)\u001b[0m\u001b[0;34m}\u001b[0m\u001b[0;34m)\u001b[0m\u001b[0;34m\u001b[0m\u001b[0;34m\u001b[0m\u001b[0m\n\u001b[1;32m      4\u001b[0m \u001b[0;31m# plt.title(\"Median debt vs Net tuition revenue\")\u001b[0m\u001b[0;34m\u001b[0m\u001b[0;34m\u001b[0m\u001b[0;34m\u001b[0m\u001b[0m\n\u001b[1;32m      5\u001b[0m \u001b[0max\u001b[0m\u001b[0;34m.\u001b[0m\u001b[0mset_title\u001b[0m\u001b[0;34m(\u001b[0m\u001b[0;34m\"Median debt (female)\"\u001b[0m\u001b[0;34m,\u001b[0m\u001b[0mfontsize\u001b[0m\u001b[0;34m=\u001b[0m\u001b[0;36m25\u001b[0m\u001b[0;34m)\u001b[0m\u001b[0;34m\u001b[0m\u001b[0;34m\u001b[0m\u001b[0m\n",
      "\u001b[0;31mAttributeError\u001b[0m: module 'seaborn' has no attribute 'histplot'"
     ]
    }
   ],
   "source": [
    "sns.set(rc={'figure.figsize':(5,5)})\n",
    "ax = sns.histplot(df_drop3cut, x=\"FEMALE_DEBT_MDN\", bins=20)\n",
    "sns.set(rc={'figure.figsize':(10,10)})\n",
    "# plt.title(\"Median debt vs Net tuition revenue\")\n",
    "ax.set_title(\"Median debt (female)\",fontsize=25)\n",
    "ax.set_xlabel('Median debt', fontsize=20)\n",
    "ax.set_ylabel('Count', fontsize=20)\n",
    "ax.tick_params(axis='x', labelsize=18)\n",
    "ax.tick_params(axis='y', labelsize=18)"
   ]
  },
  {
   "cell_type": "code",
   "execution_count": 26,
   "metadata": {
    "id": "lightweight-lithuania",
    "outputId": "b5f287cd-2708-406e-e4e9-d0882628969a"
   },
   "outputs": [
    {
     "data": {
      "image/png": "[encoded data removed]",
      "text/plain": [
       "<Figure size 360x360 with 1 Axes>"
      ]
     },
     "metadata": {},
     "output_type": "display_data"
    }
   ],
   "source": [
    "## Median debt by gender\n",
    "ax = df_drop3[[\"FEMALE_DEBT_MDN\", \"MALE_DEBT_MDN\"]].plot.hist(alpha=0.4)\n",
    "ax.set_title(\"Median debt by gender\",fontsize=25)\n",
    "sns.set(rc={'figure.figsize':(10,10)})\n",
    "ax.set_xlabel('Median debt', fontsize=20)\n",
    "ax.set_ylabel('Count', fontsize=20)\n",
    "ax.tick_params(axis='x', labelsize=18)\n",
    "ax.tick_params(axis='y', labelsize=18)\n",
    "ax.legend(loc=1, prop={'size': 13})\n",
    "\n",
    "ax.get_figure().savefig('debt_by_gender.png')"
   ]
  },
  {
   "cell_type": "code",
   "execution_count": 27,
   "metadata": {
    "id": "looking-abuse",
    "outputId": "60c81f0b-42fc-40a4-d4e9-697c9a60c23a"
   },
   "outputs": [
    {
     "data": {
      "image/png": "[encoded data removed]",
      "text/plain": [
       "<Figure size 720x720 with 1 Axes>"
      ]
     },
     "metadata": {},
     "output_type": "display_data"
    }
   ],
   "source": [
    "## Median debt by whether or not the student is first-generation\n",
    "df_drop3[\"NOTFIRSTGEN_DEBT_MDN\"] = df_drop3[\"NOTFIRSTGEN_DEBT_MDN\"].astype(float)\n",
    "df_drop3[\"FIRSTGEN_DEBT_MDN\"] = df_drop3[\"FIRSTGEN_DEBT_MDN\"].astype(float)\n",
    "ax = df_drop3[[\"NOTFIRSTGEN_DEBT_MDN\", \"FIRSTGEN_DEBT_MDN\"]].plot.hist(alpha=0.4)\n",
    "sns.set(rc={'figure.figsize':(10,10)})\n",
    "ax.set_title(\"Median debt by student first-gen status\",fontsize=25)\n",
    "ax.set_xlabel('Median debt', fontsize=20)\n",
    "ax.set_ylabel('Count', fontsize=20)\n",
    "ax.tick_params(axis='x', labelsize=18)\n",
    "ax.tick_params(axis='y', labelsize=18)\n",
    "ax.legend(loc=1, prop={'size': 12})\n",
    "\n",
    "ax.get_figure().savefig('debt_by_1stgen.png')"
   ]
  },
  {
   "cell_type": "code",
   "execution_count": 28,
   "metadata": {
    "id": "bound-massage",
    "outputId": "8c1f1c15-3560-4b7b-ec42-ac52e6c138f9"
   },
   "outputs": [
    {
     "data": {
      "image/png": "[encoded data removed]",
      "text/plain": [
       "<Figure size 720x720 with 1 Axes>"
      ]
     },
     "metadata": {},
     "output_type": "display_data"
    }
   ],
   "source": [
    "## Median debt by whether or not the student is first-generation\n",
    "df_drop3[\"WDRAW_DEBT_MDN\"] = df_drop3[\"WDRAW_DEBT_MDN\"].astype(float)\n",
    "df_drop3[\"GRAD_DEBT_MDN\"] = df_drop3[\"GRAD_DEBT_MDN\"].astype(float)\n",
    "ax = df_drop3[[\"WDRAW_DEBT_MDN\", \"GRAD_DEBT_MDN\"]].plot.hist(alpha=0.4)\n",
    "sns.set(rc={'figure.figsize':(10,10)})\n",
    "ax.set_title(\"Median debt by competion status\",fontsize=25)\n",
    "ax.set_xlabel('Median debt', fontsize=20)\n",
    "ax.set_ylabel('Normalized count', fontsize=20)\n",
    "ax.tick_params(axis='x', labelsize=18)\n",
    "ax.tick_params(axis='y', labelsize=18)\n",
    "ax.legend(loc=1, prop={'size': 12})\n",
    "\n",
    "ax.get_figure().savefig('debt_by_completion.png')"
   ]
  },
  {
   "cell_type": "markdown",
   "metadata": {
    "id": "meaningful-furniture"
   },
   "source": [
    "Save list of cleaned columns to txt file"
   ]
  },
  {
   "cell_type": "code",
   "execution_count": 29,
   "metadata": {
    "id": "married-description"
   },
   "outputs": [],
   "source": [
    "# Save list of columns to txt file\n",
    "myfile = open('CollegeScorecardCleanedColumns.csv', 'w')\n",
    "for col in df_drop2.columns:\n",
    "    try:\n",
    "#         print(col,\":\", flippeddict[col][\"description\"])\n",
    "        var1=col+\",\"+\" \"+flippeddict[col][\"description\"]\n",
    "        myfile.write(\"%s\\n\" % var1)\n",
    "    except KeyError:\n",
    "        pass\n",
    "myfile.close()"
   ]
  },
  {
   "cell_type": "markdown",
   "metadata": {
    "id": "considerable-stream"
   },
   "source": [
    "### Use dictionary from yaml to change column dtypes\n",
    "\n",
    "Must do this after defining columns of interest. It is too time consuming to do it for the whole dataset."
   ]
  },
  {
   "cell_type": "code",
   "execution_count": 30,
   "metadata": {
    "id": "beautiful-crystal"
   },
   "outputs": [],
   "source": [
    "# Function to set dtypes on columns of interest in a dataframe using the yaml flipped dictionary from\n",
    "def setdtypes(cols_of_interest, df, flippeddict):\n",
    "    for col in cols_of_interest:\n",
    "        print(\"Doing \",cols_of_interest)\n",
    "        try:\n",
    "            if flippeddict[col][\"type\"] == \"integer\":\n",
    "                df[col] = df[col].astype(\"int\")\n",
    "                print(\"dtype changed to int.\")\n",
    "            elif flippeddict[col][\"type\"] == \"float\":\n",
    "                df[col] = df[col].astype(\"float\")\n",
    "                print(\"dtype changed to float.\")\n",
    "            else:\n",
    "                pass\n",
    "        except KeyError:\n",
    "            print(\"KeyError, skipping\")\n",
    "            pass\n",
    "        except ValueError:\n",
    "            print(\"ValueError, skipping\")\n",
    "            pass\n",
    "        \n",
    "#     print(flippeddict[col])"
   ]
  },
  {
   "cell_type": "code",
   "execution_count": null,
   "metadata": {
    "id": "lonely-installation"
   },
   "outputs": [],
   "source": [
    "# df[\"ACTCM25\"] = df['PCTFLOAN'].astype('float')\n",
    "# df[\"ADM_RATE_ALL\"].dtypes"
   ]
  },
  {
   "cell_type": "markdown",
   "metadata": {
    "id": "varying-delaware"
   },
   "source": [
    "# Determining feature importance\n",
    "\n",
    "Going to try to use some models to determine which features are important. Work in progress."
   ]
  },
  {
   "cell_type": "code",
   "execution_count": null,
   "metadata": {
    "id": "constant-railway",
    "outputId": "cf216c3d-7148-432d-cbdd-4d23e03ce95f"
   },
   "outputs": [
    {
     "ename": "ValueError",
     "evalue": "could not convert string to float: '001057A1'",
     "output_type": "error",
     "traceback": [
      "\u001b[0;31m---------------------------------------------------------------------------\u001b[0m",
      "\u001b[0;31mValueError\u001b[0m                                Traceback (most recent call last)",
      "\u001b[0;32m<ipython-input-76-b3fd5ef879f3>\u001b[0m in \u001b[0;36m<module>\u001b[0;34m\u001b[0m\n\u001b[1;32m      8\u001b[0m \u001b[0mfeatures\u001b[0m\u001b[0;34m=\u001b[0m\u001b[0mdf\u001b[0m\u001b[0;34m\u001b[0m\u001b[0;34m\u001b[0m\u001b[0m\n\u001b[1;32m      9\u001b[0m \u001b[0;34m\u001b[0m\u001b[0m\n\u001b[0;32m---> 10\u001b[0;31m \u001b[0mmodel\u001b[0m\u001b[0;34m.\u001b[0m\u001b[0mfit\u001b[0m\u001b[0;34m(\u001b[0m\u001b[0mfeatures\u001b[0m\u001b[0;34m,\u001b[0m\u001b[0mdf_dropna\u001b[0m\u001b[0;34m[\u001b[0m\u001b[0;34m'MN_EARN_WNE_P6'\u001b[0m\u001b[0;34m]\u001b[0m\u001b[0;34m)\u001b[0m\u001b[0;34m\u001b[0m\u001b[0;34m\u001b[0m\u001b[0m\n\u001b[0m\u001b[1;32m     11\u001b[0m \u001b[0;34m\u001b[0m\u001b[0m\n\u001b[1;32m     12\u001b[0m \u001b[0mfeature_importance\u001b[0m\u001b[0;34m=\u001b[0m\u001b[0mpd\u001b[0m\u001b[0;34m.\u001b[0m\u001b[0mDataFrame\u001b[0m\u001b[0;34m(\u001b[0m\u001b[0;34m{\u001b[0m\u001b[0;34m'feature'\u001b[0m\u001b[0;34m:\u001b[0m\u001b[0mlist\u001b[0m\u001b[0;34m(\u001b[0m\u001b[0mfeatures\u001b[0m\u001b[0;34m.\u001b[0m\u001b[0mcolumns\u001b[0m\u001b[0;34m)\u001b[0m\u001b[0;34m,\u001b[0m\u001b[0;34m'feature_importance'\u001b[0m\u001b[0;34m:\u001b[0m\u001b[0;34m[\u001b[0m\u001b[0mabs\u001b[0m\u001b[0;34m(\u001b[0m\u001b[0mi\u001b[0m\u001b[0;34m)\u001b[0m \u001b[0;32mfor\u001b[0m \u001b[0mi\u001b[0m \u001b[0;32min\u001b[0m \u001b[0mmodel\u001b[0m\u001b[0;34m.\u001b[0m\u001b[0mcoef_\u001b[0m\u001b[0;34m[\u001b[0m\u001b[0;36m0\u001b[0m\u001b[0;34m]\u001b[0m\u001b[0;34m]\u001b[0m\u001b[0;34m}\u001b[0m\u001b[0;34m)\u001b[0m\u001b[0;34m\u001b[0m\u001b[0;34m\u001b[0m\u001b[0m\n",
      "\u001b[0;32m~/opt/anaconda3/envs/MLBDenv/lib/python3.8/site-packages/sklearn/linear_model/_logistic.py\u001b[0m in \u001b[0;36mfit\u001b[0;34m(self, X, y, sample_weight)\u001b[0m\n\u001b[1;32m   1342\u001b[0m             \u001b[0m_dtype\u001b[0m \u001b[0;34m=\u001b[0m \u001b[0;34m[\u001b[0m\u001b[0mnp\u001b[0m\u001b[0;34m.\u001b[0m\u001b[0mfloat64\u001b[0m\u001b[0;34m,\u001b[0m \u001b[0mnp\u001b[0m\u001b[0;34m.\u001b[0m\u001b[0mfloat32\u001b[0m\u001b[0;34m]\u001b[0m\u001b[0;34m\u001b[0m\u001b[0;34m\u001b[0m\u001b[0m\n\u001b[1;32m   1343\u001b[0m \u001b[0;34m\u001b[0m\u001b[0m\n\u001b[0;32m-> 1344\u001b[0;31m         X, y = self._validate_data(X, y, accept_sparse='csr', dtype=_dtype,\n\u001b[0m\u001b[1;32m   1345\u001b[0m                                    \u001b[0morder\u001b[0m\u001b[0;34m=\u001b[0m\u001b[0;34m\"C\"\u001b[0m\u001b[0;34m,\u001b[0m\u001b[0;34m\u001b[0m\u001b[0;34m\u001b[0m\u001b[0m\n\u001b[1;32m   1346\u001b[0m                                    accept_large_sparse=solver != 'liblinear')\n",
      "\u001b[0;32m~/opt/anaconda3/envs/MLBDenv/lib/python3.8/site-packages/sklearn/base.py\u001b[0m in \u001b[0;36m_validate_data\u001b[0;34m(self, X, y, reset, validate_separately, **check_params)\u001b[0m\n\u001b[1;32m    431\u001b[0m                 \u001b[0my\u001b[0m \u001b[0;34m=\u001b[0m \u001b[0mcheck_array\u001b[0m\u001b[0;34m(\u001b[0m\u001b[0my\u001b[0m\u001b[0;34m,\u001b[0m \u001b[0;34m**\u001b[0m\u001b[0mcheck_y_params\u001b[0m\u001b[0;34m)\u001b[0m\u001b[0;34m\u001b[0m\u001b[0;34m\u001b[0m\u001b[0m\n\u001b[1;32m    432\u001b[0m             \u001b[0;32melse\u001b[0m\u001b[0;34m:\u001b[0m\u001b[0;34m\u001b[0m\u001b[0;34m\u001b[0m\u001b[0m\n\u001b[0;32m--> 433\u001b[0;31m                 \u001b[0mX\u001b[0m\u001b[0;34m,\u001b[0m \u001b[0my\u001b[0m \u001b[0;34m=\u001b[0m \u001b[0mcheck_X_y\u001b[0m\u001b[0;34m(\u001b[0m\u001b[0mX\u001b[0m\u001b[0;34m,\u001b[0m \u001b[0my\u001b[0m\u001b[0;34m,\u001b[0m \u001b[0;34m**\u001b[0m\u001b[0mcheck_params\u001b[0m\u001b[0;34m)\u001b[0m\u001b[0;34m\u001b[0m\u001b[0;34m\u001b[0m\u001b[0m\n\u001b[0m\u001b[1;32m    434\u001b[0m             \u001b[0mout\u001b[0m \u001b[0;34m=\u001b[0m \u001b[0mX\u001b[0m\u001b[0;34m,\u001b[0m \u001b[0my\u001b[0m\u001b[0;34m\u001b[0m\u001b[0;34m\u001b[0m\u001b[0m\n\u001b[1;32m    435\u001b[0m \u001b[0;34m\u001b[0m\u001b[0m\n",
      "\u001b[0;32m~/opt/anaconda3/envs/MLBDenv/lib/python3.8/site-packages/sklearn/utils/validation.py\u001b[0m in \u001b[0;36minner_f\u001b[0;34m(*args, **kwargs)\u001b[0m\n\u001b[1;32m     61\u001b[0m             \u001b[0mextra_args\u001b[0m \u001b[0;34m=\u001b[0m \u001b[0mlen\u001b[0m\u001b[0;34m(\u001b[0m\u001b[0margs\u001b[0m\u001b[0;34m)\u001b[0m \u001b[0;34m-\u001b[0m \u001b[0mlen\u001b[0m\u001b[0;34m(\u001b[0m\u001b[0mall_args\u001b[0m\u001b[0;34m)\u001b[0m\u001b[0;34m\u001b[0m\u001b[0;34m\u001b[0m\u001b[0m\n\u001b[1;32m     62\u001b[0m             \u001b[0;32mif\u001b[0m \u001b[0mextra_args\u001b[0m \u001b[0;34m<=\u001b[0m \u001b[0;36m0\u001b[0m\u001b[0;34m:\u001b[0m\u001b[0;34m\u001b[0m\u001b[0;34m\u001b[0m\u001b[0m\n\u001b[0;32m---> 63\u001b[0;31m                 \u001b[0;32mreturn\u001b[0m \u001b[0mf\u001b[0m\u001b[0;34m(\u001b[0m\u001b[0;34m*\u001b[0m\u001b[0margs\u001b[0m\u001b[0;34m,\u001b[0m \u001b[0;34m**\u001b[0m\u001b[0mkwargs\u001b[0m\u001b[0;34m)\u001b[0m\u001b[0;34m\u001b[0m\u001b[0;34m\u001b[0m\u001b[0m\n\u001b[0m\u001b[1;32m     64\u001b[0m \u001b[0;34m\u001b[0m\u001b[0m\n\u001b[1;32m     65\u001b[0m             \u001b[0;31m# extra_args > 0\u001b[0m\u001b[0;34m\u001b[0m\u001b[0;34m\u001b[0m\u001b[0;34m\u001b[0m\u001b[0m\n",
      "\u001b[0;32m~/opt/anaconda3/envs/MLBDenv/lib/python3.8/site-packages/sklearn/utils/validation.py\u001b[0m in \u001b[0;36mcheck_X_y\u001b[0;34m(X, y, accept_sparse, accept_large_sparse, dtype, order, copy, force_all_finite, ensure_2d, allow_nd, multi_output, ensure_min_samples, ensure_min_features, y_numeric, estimator)\u001b[0m\n\u001b[1;32m    812\u001b[0m         \u001b[0;32mraise\u001b[0m \u001b[0mValueError\u001b[0m\u001b[0;34m(\u001b[0m\u001b[0;34m\"y cannot be None\"\u001b[0m\u001b[0;34m)\u001b[0m\u001b[0;34m\u001b[0m\u001b[0;34m\u001b[0m\u001b[0m\n\u001b[1;32m    813\u001b[0m \u001b[0;34m\u001b[0m\u001b[0m\n\u001b[0;32m--> 814\u001b[0;31m     X = check_array(X, accept_sparse=accept_sparse,\n\u001b[0m\u001b[1;32m    815\u001b[0m                     \u001b[0maccept_large_sparse\u001b[0m\u001b[0;34m=\u001b[0m\u001b[0maccept_large_sparse\u001b[0m\u001b[0;34m,\u001b[0m\u001b[0;34m\u001b[0m\u001b[0;34m\u001b[0m\u001b[0m\n\u001b[1;32m    816\u001b[0m                     \u001b[0mdtype\u001b[0m\u001b[0;34m=\u001b[0m\u001b[0mdtype\u001b[0m\u001b[0;34m,\u001b[0m \u001b[0morder\u001b[0m\u001b[0;34m=\u001b[0m\u001b[0morder\u001b[0m\u001b[0;34m,\u001b[0m \u001b[0mcopy\u001b[0m\u001b[0;34m=\u001b[0m\u001b[0mcopy\u001b[0m\u001b[0;34m,\u001b[0m\u001b[0;34m\u001b[0m\u001b[0;34m\u001b[0m\u001b[0m\n",
      "\u001b[0;32m~/opt/anaconda3/envs/MLBDenv/lib/python3.8/site-packages/sklearn/utils/validation.py\u001b[0m in \u001b[0;36minner_f\u001b[0;34m(*args, **kwargs)\u001b[0m\n\u001b[1;32m     61\u001b[0m             \u001b[0mextra_args\u001b[0m \u001b[0;34m=\u001b[0m \u001b[0mlen\u001b[0m\u001b[0;34m(\u001b[0m\u001b[0margs\u001b[0m\u001b[0;34m)\u001b[0m \u001b[0;34m-\u001b[0m \u001b[0mlen\u001b[0m\u001b[0;34m(\u001b[0m\u001b[0mall_args\u001b[0m\u001b[0;34m)\u001b[0m\u001b[0;34m\u001b[0m\u001b[0;34m\u001b[0m\u001b[0m\n\u001b[1;32m     62\u001b[0m             \u001b[0;32mif\u001b[0m \u001b[0mextra_args\u001b[0m \u001b[0;34m<=\u001b[0m \u001b[0;36m0\u001b[0m\u001b[0;34m:\u001b[0m\u001b[0;34m\u001b[0m\u001b[0;34m\u001b[0m\u001b[0m\n\u001b[0;32m---> 63\u001b[0;31m                 \u001b[0;32mreturn\u001b[0m \u001b[0mf\u001b[0m\u001b[0;34m(\u001b[0m\u001b[0;34m*\u001b[0m\u001b[0margs\u001b[0m\u001b[0;34m,\u001b[0m \u001b[0;34m**\u001b[0m\u001b[0mkwargs\u001b[0m\u001b[0;34m)\u001b[0m\u001b[0;34m\u001b[0m\u001b[0;34m\u001b[0m\u001b[0m\n\u001b[0m\u001b[1;32m     64\u001b[0m \u001b[0;34m\u001b[0m\u001b[0m\n\u001b[1;32m     65\u001b[0m             \u001b[0;31m# extra_args > 0\u001b[0m\u001b[0;34m\u001b[0m\u001b[0;34m\u001b[0m\u001b[0;34m\u001b[0m\u001b[0m\n",
      "\u001b[0;32m~/opt/anaconda3/envs/MLBDenv/lib/python3.8/site-packages/sklearn/utils/validation.py\u001b[0m in \u001b[0;36mcheck_array\u001b[0;34m(array, accept_sparse, accept_large_sparse, dtype, order, copy, force_all_finite, ensure_2d, allow_nd, ensure_min_samples, ensure_min_features, estimator)\u001b[0m\n\u001b[1;32m    614\u001b[0m                     \u001b[0marray\u001b[0m \u001b[0;34m=\u001b[0m \u001b[0marray\u001b[0m\u001b[0;34m.\u001b[0m\u001b[0mastype\u001b[0m\u001b[0;34m(\u001b[0m\u001b[0mdtype\u001b[0m\u001b[0;34m,\u001b[0m \u001b[0mcasting\u001b[0m\u001b[0;34m=\u001b[0m\u001b[0;34m\"unsafe\"\u001b[0m\u001b[0;34m,\u001b[0m \u001b[0mcopy\u001b[0m\u001b[0;34m=\u001b[0m\u001b[0;32mFalse\u001b[0m\u001b[0;34m)\u001b[0m\u001b[0;34m\u001b[0m\u001b[0;34m\u001b[0m\u001b[0m\n\u001b[1;32m    615\u001b[0m                 \u001b[0;32melse\u001b[0m\u001b[0;34m:\u001b[0m\u001b[0;34m\u001b[0m\u001b[0;34m\u001b[0m\u001b[0m\n\u001b[0;32m--> 616\u001b[0;31m                     \u001b[0marray\u001b[0m \u001b[0;34m=\u001b[0m \u001b[0mnp\u001b[0m\u001b[0;34m.\u001b[0m\u001b[0masarray\u001b[0m\u001b[0;34m(\u001b[0m\u001b[0marray\u001b[0m\u001b[0;34m,\u001b[0m \u001b[0morder\u001b[0m\u001b[0;34m=\u001b[0m\u001b[0morder\u001b[0m\u001b[0;34m,\u001b[0m \u001b[0mdtype\u001b[0m\u001b[0;34m=\u001b[0m\u001b[0mdtype\u001b[0m\u001b[0;34m)\u001b[0m\u001b[0;34m\u001b[0m\u001b[0;34m\u001b[0m\u001b[0m\n\u001b[0m\u001b[1;32m    617\u001b[0m             \u001b[0;32mexcept\u001b[0m \u001b[0mComplexWarning\u001b[0m \u001b[0;32mas\u001b[0m \u001b[0mcomplex_warning\u001b[0m\u001b[0;34m:\u001b[0m\u001b[0;34m\u001b[0m\u001b[0;34m\u001b[0m\u001b[0m\n\u001b[1;32m    618\u001b[0m                 raise ValueError(\"Complex data not supported\\n\"\n",
      "\u001b[0;32m~/opt/anaconda3/envs/MLBDenv/lib/python3.8/site-packages/numpy/core/_asarray.py\u001b[0m in \u001b[0;36masarray\u001b[0;34m(a, dtype, order)\u001b[0m\n\u001b[1;32m     81\u001b[0m \u001b[0;34m\u001b[0m\u001b[0m\n\u001b[1;32m     82\u001b[0m     \"\"\"\n\u001b[0;32m---> 83\u001b[0;31m     \u001b[0;32mreturn\u001b[0m \u001b[0marray\u001b[0m\u001b[0;34m(\u001b[0m\u001b[0ma\u001b[0m\u001b[0;34m,\u001b[0m \u001b[0mdtype\u001b[0m\u001b[0;34m,\u001b[0m \u001b[0mcopy\u001b[0m\u001b[0;34m=\u001b[0m\u001b[0;32mFalse\u001b[0m\u001b[0;34m,\u001b[0m \u001b[0morder\u001b[0m\u001b[0;34m=\u001b[0m\u001b[0morder\u001b[0m\u001b[0;34m)\u001b[0m\u001b[0;34m\u001b[0m\u001b[0;34m\u001b[0m\u001b[0m\n\u001b[0m\u001b[1;32m     84\u001b[0m \u001b[0;34m\u001b[0m\u001b[0m\n\u001b[1;32m     85\u001b[0m \u001b[0;34m\u001b[0m\u001b[0m\n",
      "\u001b[0;32m~/opt/anaconda3/envs/MLBDenv/lib/python3.8/site-packages/pandas/core/generic.py\u001b[0m in \u001b[0;36m__array__\u001b[0;34m(self, dtype)\u001b[0m\n\u001b[1;32m   1894\u001b[0m \u001b[0;34m\u001b[0m\u001b[0m\n\u001b[1;32m   1895\u001b[0m     \u001b[0;32mdef\u001b[0m \u001b[0m__array__\u001b[0m\u001b[0;34m(\u001b[0m\u001b[0mself\u001b[0m\u001b[0;34m,\u001b[0m \u001b[0mdtype\u001b[0m\u001b[0;34m=\u001b[0m\u001b[0;32mNone\u001b[0m\u001b[0;34m)\u001b[0m \u001b[0;34m->\u001b[0m \u001b[0mnp\u001b[0m\u001b[0;34m.\u001b[0m\u001b[0mndarray\u001b[0m\u001b[0;34m:\u001b[0m\u001b[0;34m\u001b[0m\u001b[0;34m\u001b[0m\u001b[0m\n\u001b[0;32m-> 1896\u001b[0;31m         \u001b[0;32mreturn\u001b[0m \u001b[0mnp\u001b[0m\u001b[0;34m.\u001b[0m\u001b[0masarray\u001b[0m\u001b[0;34m(\u001b[0m\u001b[0mself\u001b[0m\u001b[0;34m.\u001b[0m\u001b[0m_values\u001b[0m\u001b[0;34m,\u001b[0m \u001b[0mdtype\u001b[0m\u001b[0;34m=\u001b[0m\u001b[0mdtype\u001b[0m\u001b[0;34m)\u001b[0m\u001b[0;34m\u001b[0m\u001b[0;34m\u001b[0m\u001b[0m\n\u001b[0m\u001b[1;32m   1897\u001b[0m \u001b[0;34m\u001b[0m\u001b[0m\n\u001b[1;32m   1898\u001b[0m     def __array_wrap__(\n",
      "\u001b[0;32m~/opt/anaconda3/envs/MLBDenv/lib/python3.8/site-packages/numpy/core/_asarray.py\u001b[0m in \u001b[0;36masarray\u001b[0;34m(a, dtype, order)\u001b[0m\n\u001b[1;32m     81\u001b[0m \u001b[0;34m\u001b[0m\u001b[0m\n\u001b[1;32m     82\u001b[0m     \"\"\"\n\u001b[0;32m---> 83\u001b[0;31m     \u001b[0;32mreturn\u001b[0m \u001b[0marray\u001b[0m\u001b[0;34m(\u001b[0m\u001b[0ma\u001b[0m\u001b[0;34m,\u001b[0m \u001b[0mdtype\u001b[0m\u001b[0;34m,\u001b[0m \u001b[0mcopy\u001b[0m\u001b[0;34m=\u001b[0m\u001b[0;32mFalse\u001b[0m\u001b[0;34m,\u001b[0m \u001b[0morder\u001b[0m\u001b[0;34m=\u001b[0m\u001b[0morder\u001b[0m\u001b[0;34m)\u001b[0m\u001b[0;34m\u001b[0m\u001b[0;34m\u001b[0m\u001b[0m\n\u001b[0m\u001b[1;32m     84\u001b[0m \u001b[0;34m\u001b[0m\u001b[0m\n\u001b[1;32m     85\u001b[0m \u001b[0;34m\u001b[0m\u001b[0m\n",
      "\u001b[0;31mValueError\u001b[0m: could not convert string to float: '001057A1'"
     ]
    }
   ],
   "source": [
    "from sklearn.linear_model import LogisticRegression\n",
    "from sklearn.ensemble import RandomForestClassifier\n",
    "# from xgboost import XGBClassifier\n",
    "from sklearn.feature_extraction.text import CountVectorizer\n",
    "\n",
    "model=c(random_state=1)\n",
    " \n",
    "features=df\n",
    " \n",
    "model.fit(features,df_dropna['MN_EARN_WNE_P6'])\n",
    " \n",
    "feature_importance=pd.DataFrame({'feature':list(features.columns),'feature_importance':[abs(i) for i in model.coef_[0]]})\n",
    "feature_importance.sort_values('feature_importance',ascending=False)\n",
    " "
   ]
  },
  {
   "cell_type": "markdown",
   "metadata": {},
   "source": [
    "# Fearure Selection"
   ]
  },
  {
   "cell_type": "markdown",
   "metadata": {},
   "source": [
    "LASSO (L1 Regularization)"
   ]
  },
  {
   "cell_type": "code",
   "execution_count": 31,
   "metadata": {},
   "outputs": [],
   "source": [
    "from sklearn.preprocessing import StandardScaler\n",
    "import math\n",
    "from sklearn.linear_model import LogisticRegression\n",
    "from sklearn.feature_selection import SelectFromModel\n",
    "from sklearn.neighbors import KNeighborsClassifier\n",
    "from sklearn import metrics\n",
    "import copy"
   ]
  },
  {
   "cell_type": "markdown",
   "metadata": {},
   "source": [
    "Split the data into training (before 2012) and test (after 2012) datasets (Assuming regressing MN_EARN_WNE_P6 (can use other variables here) on other variables)"
   ]
  },
  {
   "cell_type": "code",
   "execution_count": 46,
   "metadata": {},
   "outputs": [],
   "source": [
    "#df_drop3[\"Year\"] =  pd.to_datetime(df_drop3[\"Year\"]).dt.year\n",
    "data = copy.deepcopy(df_drop3.drop(columns = ['UNITID', 'OPEID','OPEID6','INSTNM', 'CITY', 'STABBR','ZIP','SEPAR_DT_MDN']))\n",
    "data = data.apply(pd.to_numeric)\n",
    "\n",
    "#Drop rows where MN_EARN_WNE_P6 is NaN since MN_EARN_WNE_P6 is our dependent variable here and cannot be NaN\n",
    "#data_MN_EARN_WNE_P6 = data.dropna(subset = [\"MN_EARN_WNE_P6\"], inplace=True)\n",
    "data_MN_EARN_WNE_P6 = data[data['MN_EARN_WNE_P6'].notna()]\n"
   ]
  },
  {
   "cell_type": "code",
   "execution_count": 45,
   "metadata": {},
   "outputs": [
    {
     "data": {
      "text/html": [
       "<div>\n",
       "<style scoped>\n",
       "    .dataframe tbody tr th:only-of-type {\n",
       "        vertical-align: middle;\n",
       "    }\n",
       "\n",
       "    .dataframe tbody tr th {\n",
       "        vertical-align: top;\n",
       "    }\n",
       "\n",
       "    .dataframe thead th {\n",
       "        text-align: right;\n",
       "    }\n",
       "</style>\n",
       "<table border=\"1\" class=\"dataframe\">\n",
       "  <thead>\n",
       "    <tr style=\"text-align: right;\">\n",
       "      <th></th>\n",
       "      <th>UNITID</th>\n",
       "      <th>Year</th>\n",
       "      <th>OPEID</th>\n",
       "      <th>OPEID6</th>\n",
       "      <th>INSTNM</th>\n",
       "      <th>CITY</th>\n",
       "      <th>STABBR</th>\n",
       "      <th>ZIP</th>\n",
       "      <th>SCH_DEG</th>\n",
       "      <th>MAIN</th>\n",
       "      <th>...</th>\n",
       "      <th>UG12MN</th>\n",
       "      <th>MN_EARN_WNE_P6</th>\n",
       "      <th>MN_EARN_WNE_P8</th>\n",
       "      <th>MN_EARN_WNE_P10</th>\n",
       "      <th>Field_NR</th>\n",
       "      <th>Field_social</th>\n",
       "      <th>Field_STEM</th>\n",
       "      <th>Field_AH</th>\n",
       "      <th>Field_techtrade</th>\n",
       "      <th>Field_bus</th>\n",
       "    </tr>\n",
       "  </thead>\n",
       "  <tbody>\n",
       "    <tr>\n",
       "      <td>0</td>\n",
       "      <td>100636</td>\n",
       "      <td>2001</td>\n",
       "      <td>01230800</td>\n",
       "      <td>012308</td>\n",
       "      <td>Community College of the Air Force</td>\n",
       "      <td>Montgomery</td>\n",
       "      <td>AL</td>\n",
       "      <td>36114-3011</td>\n",
       "      <td>NaN</td>\n",
       "      <td>1</td>\n",
       "      <td>...</td>\n",
       "      <td>412000</td>\n",
       "      <td>NaN</td>\n",
       "      <td>NaN</td>\n",
       "      <td>NaN</td>\n",
       "      <td>0.0077</td>\n",
       "      <td>0.1806</td>\n",
       "      <td>0.4144</td>\n",
       "      <td>0.0067</td>\n",
       "      <td>0.1683</td>\n",
       "      <td>0.2225</td>\n",
       "    </tr>\n",
       "    <tr>\n",
       "      <td>1</td>\n",
       "      <td>100654</td>\n",
       "      <td>2001</td>\n",
       "      <td>00100200</td>\n",
       "      <td>001002</td>\n",
       "      <td>Alabama A &amp; M University</td>\n",
       "      <td>Normal</td>\n",
       "      <td>AL</td>\n",
       "      <td>35762</td>\n",
       "      <td>3</td>\n",
       "      <td>1</td>\n",
       "      <td>...</td>\n",
       "      <td>4187</td>\n",
       "      <td>NaN</td>\n",
       "      <td>NaN</td>\n",
       "      <td>NaN</td>\n",
       "      <td>0.0807</td>\n",
       "      <td>0.3725</td>\n",
       "      <td>0.3285</td>\n",
       "      <td>0.0147</td>\n",
       "      <td>0.0239</td>\n",
       "      <td>0.1798</td>\n",
       "    </tr>\n",
       "    <tr>\n",
       "      <td>2</td>\n",
       "      <td>100663</td>\n",
       "      <td>2001</td>\n",
       "      <td>00105200</td>\n",
       "      <td>001052</td>\n",
       "      <td>University of Alabama at Birmingham</td>\n",
       "      <td>Birmingham</td>\n",
       "      <td>AL</td>\n",
       "      <td>35294-0110</td>\n",
       "      <td>3</td>\n",
       "      <td>1</td>\n",
       "      <td>...</td>\n",
       "      <td>13458</td>\n",
       "      <td>NaN</td>\n",
       "      <td>NaN</td>\n",
       "      <td>NaN</td>\n",
       "      <td>0.0000</td>\n",
       "      <td>0.4213</td>\n",
       "      <td>0.2458</td>\n",
       "      <td>0.0946</td>\n",
       "      <td>0.0467</td>\n",
       "      <td>0.1914</td>\n",
       "    </tr>\n",
       "    <tr>\n",
       "      <td>3</td>\n",
       "      <td>100690</td>\n",
       "      <td>2001</td>\n",
       "      <td>02503400</td>\n",
       "      <td>025034</td>\n",
       "      <td>Amridge University</td>\n",
       "      <td>Montgomery</td>\n",
       "      <td>AL</td>\n",
       "      <td>36117-3553</td>\n",
       "      <td>3</td>\n",
       "      <td>1</td>\n",
       "      <td>...</td>\n",
       "      <td>168</td>\n",
       "      <td>NaN</td>\n",
       "      <td>NaN</td>\n",
       "      <td>NaN</td>\n",
       "      <td>0.0000</td>\n",
       "      <td>0.0000</td>\n",
       "      <td>0.0000</td>\n",
       "      <td>1.0000</td>\n",
       "      <td>0.0000</td>\n",
       "      <td>0.0000</td>\n",
       "    </tr>\n",
       "    <tr>\n",
       "      <td>4</td>\n",
       "      <td>100706</td>\n",
       "      <td>2001</td>\n",
       "      <td>00105500</td>\n",
       "      <td>001055</td>\n",
       "      <td>University of Alabama in Huntsville</td>\n",
       "      <td>Huntsville</td>\n",
       "      <td>AL</td>\n",
       "      <td>35899</td>\n",
       "      <td>3</td>\n",
       "      <td>1</td>\n",
       "      <td>...</td>\n",
       "      <td>7452</td>\n",
       "      <td>NaN</td>\n",
       "      <td>NaN</td>\n",
       "      <td>NaN</td>\n",
       "      <td>0.0000</td>\n",
       "      <td>0.2214</td>\n",
       "      <td>0.4294</td>\n",
       "      <td>0.1100</td>\n",
       "      <td>0.0000</td>\n",
       "      <td>0.2392</td>\n",
       "    </tr>\n",
       "    <tr>\n",
       "      <td>...</td>\n",
       "      <td>...</td>\n",
       "      <td>...</td>\n",
       "      <td>...</td>\n",
       "      <td>...</td>\n",
       "      <td>...</td>\n",
       "      <td>...</td>\n",
       "      <td>...</td>\n",
       "      <td>...</td>\n",
       "      <td>...</td>\n",
       "      <td>...</td>\n",
       "      <td>...</td>\n",
       "      <td>...</td>\n",
       "      <td>...</td>\n",
       "      <td>...</td>\n",
       "      <td>...</td>\n",
       "      <td>...</td>\n",
       "      <td>...</td>\n",
       "      <td>...</td>\n",
       "      <td>...</td>\n",
       "      <td>...</td>\n",
       "      <td>...</td>\n",
       "    </tr>\n",
       "    <tr>\n",
       "      <td>107252</td>\n",
       "      <td>48065701</td>\n",
       "      <td>2015</td>\n",
       "      <td>00869423</td>\n",
       "      <td>008694</td>\n",
       "      <td>Rasmussen College - Overland Park</td>\n",
       "      <td>Overland Park</td>\n",
       "      <td>KS</td>\n",
       "      <td>662102786</td>\n",
       "      <td>2</td>\n",
       "      <td>0</td>\n",
       "      <td>...</td>\n",
       "      <td>NaN</td>\n",
       "      <td>29900</td>\n",
       "      <td>32700</td>\n",
       "      <td>34300</td>\n",
       "      <td>0.0000</td>\n",
       "      <td>0.0000</td>\n",
       "      <td>0.0000</td>\n",
       "      <td>0.0000</td>\n",
       "      <td>0.0000</td>\n",
       "      <td>0.0000</td>\n",
       "    </tr>\n",
       "    <tr>\n",
       "      <td>107253</td>\n",
       "      <td>48154401</td>\n",
       "      <td>2015</td>\n",
       "      <td>04220901</td>\n",
       "      <td>042209</td>\n",
       "      <td>National Personal Training Institute of Cleveland</td>\n",
       "      <td>Highland Heights</td>\n",
       "      <td>OH</td>\n",
       "      <td>44143</td>\n",
       "      <td>1</td>\n",
       "      <td>0</td>\n",
       "      <td>...</td>\n",
       "      <td>NaN</td>\n",
       "      <td>NaN</td>\n",
       "      <td>NaN</td>\n",
       "      <td>NaN</td>\n",
       "      <td>0.0000</td>\n",
       "      <td>0.0000</td>\n",
       "      <td>0.0000</td>\n",
       "      <td>0.0000</td>\n",
       "      <td>0.0000</td>\n",
       "      <td>0.0000</td>\n",
       "    </tr>\n",
       "    <tr>\n",
       "      <td>107254</td>\n",
       "      <td>48387801</td>\n",
       "      <td>2015</td>\n",
       "      <td>04223701</td>\n",
       "      <td>042237</td>\n",
       "      <td>Bay Area Medical Academy - San Jose Satellite ...</td>\n",
       "      <td>San Jose</td>\n",
       "      <td>CA</td>\n",
       "      <td>95113</td>\n",
       "      <td>1</td>\n",
       "      <td>0</td>\n",
       "      <td>...</td>\n",
       "      <td>NaN</td>\n",
       "      <td>NaN</td>\n",
       "      <td>NaN</td>\n",
       "      <td>NaN</td>\n",
       "      <td>0.0000</td>\n",
       "      <td>0.0000</td>\n",
       "      <td>0.0000</td>\n",
       "      <td>0.0000</td>\n",
       "      <td>0.0000</td>\n",
       "      <td>0.0000</td>\n",
       "    </tr>\n",
       "    <tr>\n",
       "      <td>107255</td>\n",
       "      <td>48400201</td>\n",
       "      <td>2015</td>\n",
       "      <td>04228101</td>\n",
       "      <td>042281</td>\n",
       "      <td>High Desert Medical College - Bakerfield</td>\n",
       "      <td>Bakersfield</td>\n",
       "      <td>CA</td>\n",
       "      <td>93301</td>\n",
       "      <td>1</td>\n",
       "      <td>0</td>\n",
       "      <td>...</td>\n",
       "      <td>NaN</td>\n",
       "      <td>NaN</td>\n",
       "      <td>NaN</td>\n",
       "      <td>NaN</td>\n",
       "      <td>0.0000</td>\n",
       "      <td>0.0000</td>\n",
       "      <td>0.0000</td>\n",
       "      <td>0.0000</td>\n",
       "      <td>0.0000</td>\n",
       "      <td>0.0000</td>\n",
       "    </tr>\n",
       "    <tr>\n",
       "      <td>107256</td>\n",
       "      <td>48414501</td>\n",
       "      <td>2015</td>\n",
       "      <td>04232401</td>\n",
       "      <td>042324</td>\n",
       "      <td>Vantage College-San Antonio</td>\n",
       "      <td>San Antonio</td>\n",
       "      <td>TX</td>\n",
       "      <td>782211361</td>\n",
       "      <td>NaN</td>\n",
       "      <td>0</td>\n",
       "      <td>...</td>\n",
       "      <td>NaN</td>\n",
       "      <td>NaN</td>\n",
       "      <td>NaN</td>\n",
       "      <td>NaN</td>\n",
       "      <td>0.0000</td>\n",
       "      <td>0.0000</td>\n",
       "      <td>0.0000</td>\n",
       "      <td>0.0000</td>\n",
       "      <td>0.0000</td>\n",
       "      <td>0.0000</td>\n",
       "    </tr>\n",
       "  </tbody>\n",
       "</table>\n",
       "<p>107257 rows × 249 columns</p>\n",
       "</div>"
      ],
      "text/plain": [
       "          UNITID  Year     OPEID  OPEID6  \\\n",
       "0         100636  2001  01230800  012308   \n",
       "1         100654  2001  00100200  001002   \n",
       "2         100663  2001  00105200  001052   \n",
       "3         100690  2001  02503400  025034   \n",
       "4         100706  2001  00105500  001055   \n",
       "...          ...   ...       ...     ...   \n",
       "107252  48065701  2015  00869423  008694   \n",
       "107253  48154401  2015  04220901  042209   \n",
       "107254  48387801  2015  04223701  042237   \n",
       "107255  48400201  2015  04228101  042281   \n",
       "107256  48414501  2015  04232401  042324   \n",
       "\n",
       "                                                   INSTNM              CITY  \\\n",
       "0                      Community College of the Air Force        Montgomery   \n",
       "1                                Alabama A & M University            Normal   \n",
       "2                     University of Alabama at Birmingham        Birmingham   \n",
       "3                                      Amridge University        Montgomery   \n",
       "4                     University of Alabama in Huntsville        Huntsville   \n",
       "...                                                   ...               ...   \n",
       "107252                  Rasmussen College - Overland Park     Overland Park   \n",
       "107253  National Personal Training Institute of Cleveland  Highland Heights   \n",
       "107254  Bay Area Medical Academy - San Jose Satellite ...          San Jose   \n",
       "107255           High Desert Medical College - Bakerfield       Bakersfield   \n",
       "107256                        Vantage College-San Antonio       San Antonio   \n",
       "\n",
       "       STABBR         ZIP SCH_DEG MAIN  ...  UG12MN MN_EARN_WNE_P6  \\\n",
       "0          AL  36114-3011     NaN    1  ...  412000            NaN   \n",
       "1          AL       35762       3    1  ...    4187            NaN   \n",
       "2          AL  35294-0110       3    1  ...   13458            NaN   \n",
       "3          AL  36117-3553       3    1  ...     168            NaN   \n",
       "4          AL       35899       3    1  ...    7452            NaN   \n",
       "...       ...         ...     ...  ...  ...     ...            ...   \n",
       "107252     KS   662102786       2    0  ...     NaN          29900   \n",
       "107253     OH       44143       1    0  ...     NaN            NaN   \n",
       "107254     CA       95113       1    0  ...     NaN            NaN   \n",
       "107255     CA       93301       1    0  ...     NaN            NaN   \n",
       "107256     TX   782211361     NaN    0  ...     NaN            NaN   \n",
       "\n",
       "       MN_EARN_WNE_P8 MN_EARN_WNE_P10 Field_NR Field_social  Field_STEM  \\\n",
       "0                 NaN             NaN   0.0077       0.1806      0.4144   \n",
       "1                 NaN             NaN   0.0807       0.3725      0.3285   \n",
       "2                 NaN             NaN   0.0000       0.4213      0.2458   \n",
       "3                 NaN             NaN   0.0000       0.0000      0.0000   \n",
       "4                 NaN             NaN   0.0000       0.2214      0.4294   \n",
       "...               ...             ...      ...          ...         ...   \n",
       "107252          32700           34300   0.0000       0.0000      0.0000   \n",
       "107253            NaN             NaN   0.0000       0.0000      0.0000   \n",
       "107254            NaN             NaN   0.0000       0.0000      0.0000   \n",
       "107255            NaN             NaN   0.0000       0.0000      0.0000   \n",
       "107256            NaN             NaN   0.0000       0.0000      0.0000   \n",
       "\n",
       "        Field_AH  Field_techtrade  Field_bus  \n",
       "0         0.0067           0.1683     0.2225  \n",
       "1         0.0147           0.0239     0.1798  \n",
       "2         0.0946           0.0467     0.1914  \n",
       "3         1.0000           0.0000     0.0000  \n",
       "4         0.1100           0.0000     0.2392  \n",
       "...          ...              ...        ...  \n",
       "107252    0.0000           0.0000     0.0000  \n",
       "107253    0.0000           0.0000     0.0000  \n",
       "107254    0.0000           0.0000     0.0000  \n",
       "107255    0.0000           0.0000     0.0000  \n",
       "107256    0.0000           0.0000     0.0000  \n",
       "\n",
       "[107257 rows x 249 columns]"
      ]
     },
     "execution_count": 45,
     "metadata": {},
     "output_type": "execute_result"
    }
   ],
   "source": [
    "df_drop3"
   ]
  },
  {
   "cell_type": "code",
   "execution_count": 48,
   "metadata": {},
   "outputs": [
    {
     "data": {
      "text/plain": [
       "StandardScaler(copy=True, with_mean=True, with_std=True)"
      ]
     },
     "execution_count": 48,
     "metadata": {},
     "output_type": "execute_result"
    }
   ],
   "source": [
    "data_train = data_MN_EARN_WNE_P6[data_MN_EARN_WNE_P6['Year']<=2012]\n",
    "data_test = data_MN_EARN_WNE_P6[data_MN_EARN_WNE_P6['Year']>2012]\n",
    "\n",
    "X_train = data_train.drop(columns=['Year','MN_EARN_WNE_P6']).fillna(0)\n",
    "y_train = data_train['MN_EARN_WNE_P6']\n",
    "X_test = data_test.drop(columns=['Year','MN_EARN_WNE_P6']).fillna(0)\n",
    "y_test = data_test['MN_EARN_WNE_P6']\n",
    "\n",
    "scaler = StandardScaler()\n",
    "scaler.fit(X_train)"
   ]
  },
  {
   "cell_type": "code",
   "execution_count": 49,
   "metadata": {},
   "outputs": [
    {
     "name": "stderr",
     "output_type": "stream",
     "text": [
      "/Users/meng/opt/anaconda3/lib/python3.7/site-packages/sklearn/linear_model/logistic.py:432: FutureWarning: Default solver will be changed to 'lbfgs' in 0.22. Specify a solver to silence this warning.\n",
      "  FutureWarning)\n",
      "/Users/meng/opt/anaconda3/lib/python3.7/site-packages/sklearn/linear_model/logistic.py:469: FutureWarning: Default multi_class will be changed to 'auto' in 0.22. Specify the multi_class option to silence this warning.\n",
      "  \"this warning.\", FutureWarning)\n"
     ]
    },
    {
     "data": {
      "text/plain": [
       "Index(['SCH_DEG', 'MAIN', 'NUMBRANCH', 'PREDDEG', 'HIGHDEG', 'CONTROL',\n",
       "       'ST_FIPS', 'REGION', 'PCIP01', 'PCIP03',\n",
       "       ...\n",
       "       'OPEFLAG', 'UG12MN', 'MN_EARN_WNE_P8', 'MN_EARN_WNE_P10', 'Field_NR',\n",
       "       'Field_social', 'Field_STEM', 'Field_AH', 'Field_techtrade',\n",
       "       'Field_bus'],\n",
       "      dtype='object', length=227)"
      ]
     },
     "execution_count": 49,
     "metadata": {},
     "output_type": "execute_result"
    }
   ],
   "source": [
    "# LASSO feature selection\n",
    "sel_ = SelectFromModel(LogisticRegression(C=1, penalty='l1'))\n",
    "sel_.fit(scaler.transform(X_train.fillna(0)), y_train)\n",
    "sel_.get_support()\n",
    "\n",
    "selected_feat = X_train.columns[(sel_.get_support())]\n",
    "selected_feat # This is the features selected by LASSO"
   ]
  },
  {
   "cell_type": "code",
   "execution_count": 50,
   "metadata": {},
   "outputs": [
    {
     "name": "stderr",
     "output_type": "stream",
     "text": [
      "/Users/meng/opt/anaconda3/lib/python3.7/site-packages/sklearn/linear_model/logistic.py:469: FutureWarning: Default multi_class will be changed to 'auto' in 0.22. Specify the multi_class option to silence this warning.\n",
      "  \"this warning.\", FutureWarning)\n",
      "/Users/meng/opt/anaconda3/lib/python3.7/site-packages/sklearn/linear_model/sag.py:337: ConvergenceWarning: The max_iter was reached which means the coef_ did not converge\n",
      "  \"the coef_ did not converge\", ConvergenceWarning)\n"
     ]
    },
    {
     "data": {
      "text/plain": [
       "0.0032179784764718297"
      ]
     },
     "execution_count": 50,
     "metadata": {},
     "output_type": "execute_result"
    }
   ],
   "source": [
    "#Keep Only the Selected Features by LASSO and Run Logistic Regression\n",
    "X_train_selected = sel_.transform(X_train.fillna(0))\n",
    "X_test_selected = sel_.transform(X_test.fillna(0))\n",
    "model = LogisticRegression(penalty='none', solver = 'saga', fit_intercept=False).fit(X_train_selected, y_train)\n",
    "model.score(X_test_selected, y_test)"
   ]
  },
  {
   "cell_type": "markdown",
   "metadata": {},
   "source": [
    "Ridge (L2 Regularization)"
   ]
  },
  {
   "cell_type": "code",
   "execution_count": 51,
   "metadata": {},
   "outputs": [
    {
     "name": "stderr",
     "output_type": "stream",
     "text": [
      "/Users/meng/opt/anaconda3/lib/python3.7/site-packages/sklearn/linear_model/logistic.py:432: FutureWarning: Default solver will be changed to 'lbfgs' in 0.22. Specify a solver to silence this warning.\n",
      "  FutureWarning)\n",
      "/Users/meng/opt/anaconda3/lib/python3.7/site-packages/sklearn/linear_model/logistic.py:469: FutureWarning: Default multi_class will be changed to 'auto' in 0.22. Specify the multi_class option to silence this warning.\n",
      "  \"this warning.\", FutureWarning)\n"
     ]
    },
    {
     "data": {
      "text/plain": [
       "Index(['SCH_DEG', 'NUMBRANCH', 'PREDDEG', 'HIGHDEG', 'CONTROL', 'CIP09BACHL',\n",
       "       'CIP11BACHL', 'CIP13BACHL', 'CIP16BACHL', 'CIP23BACHL',\n",
       "       ...\n",
       "       'DEBT_MDN_SUPP', 'GRAD_DEBT_MDN_SUPP', 'ICLEVEL', 'UGDS_MEN',\n",
       "       'UGDS_WOMEN', 'CDR2_DENOM', 'OPENADMP', 'UG12MN', 'MN_EARN_WNE_P8',\n",
       "       'MN_EARN_WNE_P10'],\n",
       "      dtype='object', length=103)"
      ]
     },
     "execution_count": 51,
     "metadata": {},
     "output_type": "execute_result"
    }
   ],
   "source": [
    "sel_2 = SelectFromModel(LogisticRegression(C=1, penalty='l2'))\n",
    "sel_2.fit(scaler.transform(X_train.fillna(0)), y_train)\n",
    "sel_2.get_support()\n",
    "selected_feat_2 = X_train.columns[(sel_2.get_support())]\n",
    "selected_feat_2"
   ]
  },
  {
   "cell_type": "code",
   "execution_count": 52,
   "metadata": {},
   "outputs": [
    {
     "name": "stderr",
     "output_type": "stream",
     "text": [
      "/Users/meng/opt/anaconda3/lib/python3.7/site-packages/sklearn/linear_model/logistic.py:469: FutureWarning: Default multi_class will be changed to 'auto' in 0.22. Specify the multi_class option to silence this warning.\n",
      "  \"this warning.\", FutureWarning)\n",
      "/Users/meng/opt/anaconda3/lib/python3.7/site-packages/sklearn/linear_model/sag.py:337: ConvergenceWarning: The max_iter was reached which means the coef_ did not converge\n",
      "  \"the coef_ did not converge\", ConvergenceWarning)\n"
     ]
    },
    {
     "data": {
      "text/plain": [
       "0.005380882042625027"
      ]
     },
     "execution_count": 52,
     "metadata": {},
     "output_type": "execute_result"
    }
   ],
   "source": [
    "#Keep Only the Selected Features by Ridge Rgularization and Run Logistic Regression\n",
    "X_train_selected_2 = sel_2.transform(X_train.fillna(0))\n",
    "X_test_selected_2 = sel_2.transform(X_test.fillna(0))\n",
    "model_ = LogisticRegression(penalty='none', solver = 'saga', fit_intercept=False).fit(X_train_selected_2, y_train)\n",
    "model_.score(X_test_selected_2, y_test)"
   ]
  },
  {
   "cell_type": "markdown",
   "metadata": {
    "id": "received-capture"
   },
   "source": [
    "### Plotting stuff"
   ]
  },
  {
   "cell_type": "code",
   "execution_count": null,
   "metadata": {
    "id": "satisfactory-cancellation"
   },
   "outputs": [],
   "source": [
    "df_subset = df[cols_of_interest]\n",
    "for col in cols_numeric:\n",
    "    df_subset[col] = pd.to_numeric(df_subset[col], errors='coerce')\n",
    "df_subset.info()"
   ]
  },
  {
   "cell_type": "code",
   "execution_count": null,
   "metadata": {
    "id": "competent-translator"
   },
   "outputs": [],
   "source": [
    "sns.histplot(df_subset, y=\"TUITFTE\", x=\"DEBT_MDN\", bins=50, pthresh=.1, cmap=\"mako\")\n",
    "plt.title(\"Cost of tuition vs Median earnings after 6 years\")"
   ]
  }
 ],
 "metadata": {
  "colab": {
   "name": "Copy of CollegeScorecardDataClean.ipynb",
   "provenance": []
  },
  "kernelspec": {
   "display_name": "Python 3",
   "language": "python",
   "name": "python3"
  },
  "language_info": {
   "codemirror_mode": {
    "name": "ipython",
    "version": 3
   },
   "file_extension": ".py",
   "mimetype": "text/x-python",
   "name": "python",
   "nbconvert_exporter": "python",
   "pygments_lexer": "ipython3",
   "version": "3.7.4"
  }
 },
 "nbformat": 4,
 "nbformat_minor": 5
}
